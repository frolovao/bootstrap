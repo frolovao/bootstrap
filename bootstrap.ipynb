{
 "cells": [
  {
   "cell_type": "markdown",
   "metadata": {},
   "source": [
    "# Выбор локации для скважины"
   ]
  },
  {
   "cell_type": "markdown",
   "metadata": {},
   "source": [
    "## Загрузка и подготовка данных"
   ]
  },
  {
   "cell_type": "code",
   "execution_count": 3,
   "metadata": {},
   "outputs": [],
   "source": [
    "import pandas as pd\n",
    "import os\n",
    "import seaborn as sns\n",
    "import matplotlib.pyplot as plt\n",
    "import numpy as np\n",
    "\n",
    "from sklearn.preprocessing import PolynomialFeatures, StandardScaler\n",
    "from sklearn.linear_model import LinearRegression\n",
    "from sklearn.model_selection import train_test_split\n",
    "from sklearn.metrics import root_mean_squared_error, make_scorer\n",
    "\n",
    "RANDOM_STATE = 42"
   ]
  },
  {
   "cell_type": "code",
   "execution_count": 4,
   "metadata": {},
   "outputs": [],
   "source": [
    "path1 = '/datasets/geo_data_0.csv'\n",
    "path2 = 'C:/Users/Kseno/Downloads/geo_data_0.csv'\n",
    "\n",
    "if os.path.exists(path1):\n",
    "    data_0 = pd.read_csv(path1, index_col='id')\n",
    "elif os.path.exists(path2):\n",
    "    data_0 = pd.read_csv(path2, index_col='id')\n",
    "else:\n",
    "    print('Что-то пошло не так')"
   ]
  },
  {
   "cell_type": "code",
   "execution_count": 5,
   "metadata": {},
   "outputs": [
    {
     "data": {
      "text/html": [
       "<div>\n",
       "<style scoped>\n",
       "    .dataframe tbody tr th:only-of-type {\n",
       "        vertical-align: middle;\n",
       "    }\n",
       "\n",
       "    .dataframe tbody tr th {\n",
       "        vertical-align: top;\n",
       "    }\n",
       "\n",
       "    .dataframe thead th {\n",
       "        text-align: right;\n",
       "    }\n",
       "</style>\n",
       "<table border=\"1\" class=\"dataframe\">\n",
       "  <thead>\n",
       "    <tr style=\"text-align: right;\">\n",
       "      <th></th>\n",
       "      <th>f0</th>\n",
       "      <th>f1</th>\n",
       "      <th>f2</th>\n",
       "      <th>product</th>\n",
       "    </tr>\n",
       "    <tr>\n",
       "      <th>id</th>\n",
       "      <th></th>\n",
       "      <th></th>\n",
       "      <th></th>\n",
       "      <th></th>\n",
       "    </tr>\n",
       "  </thead>\n",
       "  <tbody>\n",
       "    <tr>\n",
       "      <th>txEyH</th>\n",
       "      <td>0.705745</td>\n",
       "      <td>-0.497823</td>\n",
       "      <td>1.221170</td>\n",
       "      <td>105.280062</td>\n",
       "    </tr>\n",
       "    <tr>\n",
       "      <th>2acmU</th>\n",
       "      <td>1.334711</td>\n",
       "      <td>-0.340164</td>\n",
       "      <td>4.365080</td>\n",
       "      <td>73.037750</td>\n",
       "    </tr>\n",
       "    <tr>\n",
       "      <th>409Wp</th>\n",
       "      <td>1.022732</td>\n",
       "      <td>0.151990</td>\n",
       "      <td>1.419926</td>\n",
       "      <td>85.265647</td>\n",
       "    </tr>\n",
       "    <tr>\n",
       "      <th>iJLyR</th>\n",
       "      <td>-0.032172</td>\n",
       "      <td>0.139033</td>\n",
       "      <td>2.978566</td>\n",
       "      <td>168.620776</td>\n",
       "    </tr>\n",
       "    <tr>\n",
       "      <th>Xdl7t</th>\n",
       "      <td>1.988431</td>\n",
       "      <td>0.155413</td>\n",
       "      <td>4.751769</td>\n",
       "      <td>154.036647</td>\n",
       "    </tr>\n",
       "  </tbody>\n",
       "</table>\n",
       "</div>"
      ],
      "text/plain": [
       "             f0        f1        f2     product\n",
       "id                                             \n",
       "txEyH  0.705745 -0.497823  1.221170  105.280062\n",
       "2acmU  1.334711 -0.340164  4.365080   73.037750\n",
       "409Wp  1.022732  0.151990  1.419926   85.265647\n",
       "iJLyR -0.032172  0.139033  2.978566  168.620776\n",
       "Xdl7t  1.988431  0.155413  4.751769  154.036647"
      ]
     },
     "execution_count": 5,
     "metadata": {},
     "output_type": "execute_result"
    }
   ],
   "source": [
    "data_0.head()"
   ]
  },
  {
   "cell_type": "code",
   "execution_count": 6,
   "metadata": {},
   "outputs": [
    {
     "data": {
      "text/html": [
       "<div>\n",
       "<style scoped>\n",
       "    .dataframe tbody tr th:only-of-type {\n",
       "        vertical-align: middle;\n",
       "    }\n",
       "\n",
       "    .dataframe tbody tr th {\n",
       "        vertical-align: top;\n",
       "    }\n",
       "\n",
       "    .dataframe thead th {\n",
       "        text-align: right;\n",
       "    }\n",
       "</style>\n",
       "<table border=\"1\" class=\"dataframe\">\n",
       "  <thead>\n",
       "    <tr style=\"text-align: right;\">\n",
       "      <th></th>\n",
       "      <th>f0</th>\n",
       "      <th>f1</th>\n",
       "      <th>f2</th>\n",
       "      <th>product</th>\n",
       "    </tr>\n",
       "  </thead>\n",
       "  <tbody>\n",
       "    <tr>\n",
       "      <th>count</th>\n",
       "      <td>100000.000000</td>\n",
       "      <td>100000.000000</td>\n",
       "      <td>100000.000000</td>\n",
       "      <td>100000.000000</td>\n",
       "    </tr>\n",
       "    <tr>\n",
       "      <th>mean</th>\n",
       "      <td>0.500419</td>\n",
       "      <td>0.250143</td>\n",
       "      <td>2.502647</td>\n",
       "      <td>92.500000</td>\n",
       "    </tr>\n",
       "    <tr>\n",
       "      <th>std</th>\n",
       "      <td>0.871832</td>\n",
       "      <td>0.504433</td>\n",
       "      <td>3.248248</td>\n",
       "      <td>44.288691</td>\n",
       "    </tr>\n",
       "    <tr>\n",
       "      <th>min</th>\n",
       "      <td>-1.408605</td>\n",
       "      <td>-0.848218</td>\n",
       "      <td>-12.088328</td>\n",
       "      <td>0.000000</td>\n",
       "    </tr>\n",
       "    <tr>\n",
       "      <th>25%</th>\n",
       "      <td>-0.072580</td>\n",
       "      <td>-0.200881</td>\n",
       "      <td>0.287748</td>\n",
       "      <td>56.497507</td>\n",
       "    </tr>\n",
       "    <tr>\n",
       "      <th>50%</th>\n",
       "      <td>0.502360</td>\n",
       "      <td>0.250252</td>\n",
       "      <td>2.515969</td>\n",
       "      <td>91.849972</td>\n",
       "    </tr>\n",
       "    <tr>\n",
       "      <th>75%</th>\n",
       "      <td>1.073581</td>\n",
       "      <td>0.700646</td>\n",
       "      <td>4.715088</td>\n",
       "      <td>128.564089</td>\n",
       "    </tr>\n",
       "    <tr>\n",
       "      <th>max</th>\n",
       "      <td>2.362331</td>\n",
       "      <td>1.343769</td>\n",
       "      <td>16.003790</td>\n",
       "      <td>185.364347</td>\n",
       "    </tr>\n",
       "  </tbody>\n",
       "</table>\n",
       "</div>"
      ],
      "text/plain": [
       "                  f0             f1             f2        product\n",
       "count  100000.000000  100000.000000  100000.000000  100000.000000\n",
       "mean        0.500419       0.250143       2.502647      92.500000\n",
       "std         0.871832       0.504433       3.248248      44.288691\n",
       "min        -1.408605      -0.848218     -12.088328       0.000000\n",
       "25%        -0.072580      -0.200881       0.287748      56.497507\n",
       "50%         0.502360       0.250252       2.515969      91.849972\n",
       "75%         1.073581       0.700646       4.715088     128.564089\n",
       "max         2.362331       1.343769      16.003790     185.364347"
      ]
     },
     "execution_count": 6,
     "metadata": {},
     "output_type": "execute_result"
    }
   ],
   "source": [
    "data_0.describe()"
   ]
  },
  {
   "cell_type": "code",
   "execution_count": 7,
   "metadata": {},
   "outputs": [
    {
     "name": "stdout",
     "output_type": "stream",
     "text": [
      "<class 'pandas.core.frame.DataFrame'>\n",
      "Index: 100000 entries, txEyH to 1CWhH\n",
      "Data columns (total 4 columns):\n",
      " #   Column   Non-Null Count   Dtype  \n",
      "---  ------   --------------   -----  \n",
      " 0   f0       100000 non-null  float64\n",
      " 1   f1       100000 non-null  float64\n",
      " 2   f2       100000 non-null  float64\n",
      " 3   product  100000 non-null  float64\n",
      "dtypes: float64(4)\n",
      "memory usage: 3.8+ MB\n"
     ]
    }
   ],
   "source": [
    "data_0.info()"
   ]
  },
  {
   "cell_type": "code",
   "execution_count": 8,
   "metadata": {},
   "outputs": [
    {
     "data": {
      "text/plain": [
       "0"
      ]
     },
     "execution_count": 8,
     "metadata": {},
     "output_type": "execute_result"
    }
   ],
   "source": [
    "data_0.duplicated().sum()"
   ]
  },
  {
   "cell_type": "code",
   "execution_count": 9,
   "metadata": {},
   "outputs": [
    {
     "data": {
      "image/png": "[encoded data removed]",
      "text/plain": [
       "<Figure size 1500x700 with 1 Axes>"
      ]
     },
     "metadata": {},
     "output_type": "display_data"
    }
   ],
   "source": [
    "plt.figure(figsize=(15, 7))\n",
    "sns.boxplot(data=data_0, orient='h')\n",
    "plt.title('График распределения данных data_0')\n",
    "plt.show()"
   ]
  },
  {
   "cell_type": "markdown",
   "metadata": {},
   "source": [
    "Целевой признак и входные f0 и f1 не имеют выбросов. Входной признак f2 стоит рассмотреть внимательней."
   ]
  },
  {
   "cell_type": "code",
   "execution_count": 11,
   "metadata": {},
   "outputs": [
    {
     "data": {
      "image/png": "[encoded data removed]",
      "text/plain": [
       "<Figure size 1000x500 with 1 Axes>"
      ]
     },
     "metadata": {},
     "output_type": "display_data"
    }
   ],
   "source": [
    "plt.figure(figsize=(10, 5))\n",
    "sns.histplot(data_0['f2'], kde=True)\n",
    "plt.title('Гистограмма распределения признака f2')\n",
    "plt.show()"
   ]
  },
  {
   "cell_type": "markdown",
   "metadata": {},
   "source": [
    "Входной признак f2 имеет нормальное распределение с небольшим количеством очень маленьких и очень больших значений. Данные не похожи на выбросы."
   ]
  },
  {
   "cell_type": "code",
   "execution_count": 13,
   "metadata": {},
   "outputs": [
    {
     "data": {
      "text/html": [
       "<div>\n",
       "<style scoped>\n",
       "    .dataframe tbody tr th:only-of-type {\n",
       "        vertical-align: middle;\n",
       "    }\n",
       "\n",
       "    .dataframe tbody tr th {\n",
       "        vertical-align: top;\n",
       "    }\n",
       "\n",
       "    .dataframe thead th {\n",
       "        text-align: right;\n",
       "    }\n",
       "</style>\n",
       "<table border=\"1\" class=\"dataframe\">\n",
       "  <thead>\n",
       "    <tr style=\"text-align: right;\">\n",
       "      <th></th>\n",
       "      <th>f0</th>\n",
       "      <th>f1</th>\n",
       "      <th>f2</th>\n",
       "      <th>product</th>\n",
       "    </tr>\n",
       "  </thead>\n",
       "  <tbody>\n",
       "    <tr>\n",
       "      <th>f0</th>\n",
       "      <td>1.000000</td>\n",
       "      <td>-0.471395</td>\n",
       "      <td>-0.002685</td>\n",
       "      <td>0.128417</td>\n",
       "    </tr>\n",
       "    <tr>\n",
       "      <th>f1</th>\n",
       "      <td>-0.471395</td>\n",
       "      <td>1.000000</td>\n",
       "      <td>0.001413</td>\n",
       "      <td>-0.181143</td>\n",
       "    </tr>\n",
       "    <tr>\n",
       "      <th>f2</th>\n",
       "      <td>-0.002685</td>\n",
       "      <td>0.001413</td>\n",
       "      <td>1.000000</td>\n",
       "      <td>0.486394</td>\n",
       "    </tr>\n",
       "    <tr>\n",
       "      <th>product</th>\n",
       "      <td>0.128417</td>\n",
       "      <td>-0.181143</td>\n",
       "      <td>0.486394</td>\n",
       "      <td>1.000000</td>\n",
       "    </tr>\n",
       "  </tbody>\n",
       "</table>\n",
       "</div>"
      ],
      "text/plain": [
       "               f0        f1        f2   product\n",
       "f0       1.000000 -0.471395 -0.002685  0.128417\n",
       "f1      -0.471395  1.000000  0.001413 -0.181143\n",
       "f2      -0.002685  0.001413  1.000000  0.486394\n",
       "product  0.128417 -0.181143  0.486394  1.000000"
      ]
     },
     "execution_count": 13,
     "metadata": {},
     "output_type": "execute_result"
    }
   ],
   "source": [
    "corr_0 = data_0.corr(method='spearman')\n",
    "corr_0"
   ]
  },
  {
   "cell_type": "code",
   "execution_count": 14,
   "metadata": {},
   "outputs": [
    {
     "data": {
      "image/png": "[encoded data removed]",
      "text/plain": [
       "<Figure size 640x480 with 2 Axes>"
      ]
     },
     "metadata": {},
     "output_type": "display_data"
    }
   ],
   "source": [
    "sns.heatmap(corr_0, annot=True, vmin=-1, fmt='.2f')\n",
    "plt.title('Матрица корреляции для data_0')\n",
    "plt.show()"
   ]
  },
  {
   "cell_type": "markdown",
   "metadata": {},
   "source": [
    "* в датасете `data_0` содержится 100 000 строк и 5 столбцов;\n",
    "* пропусков, дубликатов и выбросов нет;\n",
    "* типы данных верные;\n",
    "* мультиколлинеарности между признаками нет."
   ]
  },
  {
   "cell_type": "code",
   "execution_count": 16,
   "metadata": {},
   "outputs": [],
   "source": [
    "path1 = '/datasets/geo_data_1.csv'\n",
    "path2 = 'C:/Users/Kseno/Downloads/geo_data_1.csv'\n",
    "\n",
    "if os.path.exists(path1):\n",
    "    data_1 = pd.read_csv(path1, index_col='id')\n",
    "elif os.path.exists(path2):\n",
    "    data_1 = pd.read_csv(path2, index_col='id')\n",
    "else:\n",
    "    print('Что-то пошло не так')"
   ]
  },
  {
   "cell_type": "code",
   "execution_count": 17,
   "metadata": {},
   "outputs": [
    {
     "data": {
      "text/html": [
       "<div>\n",
       "<style scoped>\n",
       "    .dataframe tbody tr th:only-of-type {\n",
       "        vertical-align: middle;\n",
       "    }\n",
       "\n",
       "    .dataframe tbody tr th {\n",
       "        vertical-align: top;\n",
       "    }\n",
       "\n",
       "    .dataframe thead th {\n",
       "        text-align: right;\n",
       "    }\n",
       "</style>\n",
       "<table border=\"1\" class=\"dataframe\">\n",
       "  <thead>\n",
       "    <tr style=\"text-align: right;\">\n",
       "      <th></th>\n",
       "      <th>f0</th>\n",
       "      <th>f1</th>\n",
       "      <th>f2</th>\n",
       "      <th>product</th>\n",
       "    </tr>\n",
       "    <tr>\n",
       "      <th>id</th>\n",
       "      <th></th>\n",
       "      <th></th>\n",
       "      <th></th>\n",
       "      <th></th>\n",
       "    </tr>\n",
       "  </thead>\n",
       "  <tbody>\n",
       "    <tr>\n",
       "      <th>kBEdx</th>\n",
       "      <td>-15.001348</td>\n",
       "      <td>-8.276000</td>\n",
       "      <td>-0.005876</td>\n",
       "      <td>3.179103</td>\n",
       "    </tr>\n",
       "    <tr>\n",
       "      <th>62mP7</th>\n",
       "      <td>14.272088</td>\n",
       "      <td>-3.475083</td>\n",
       "      <td>0.999183</td>\n",
       "      <td>26.953261</td>\n",
       "    </tr>\n",
       "    <tr>\n",
       "      <th>vyE1P</th>\n",
       "      <td>6.263187</td>\n",
       "      <td>-5.948386</td>\n",
       "      <td>5.001160</td>\n",
       "      <td>134.766305</td>\n",
       "    </tr>\n",
       "    <tr>\n",
       "      <th>KcrkZ</th>\n",
       "      <td>-13.081196</td>\n",
       "      <td>-11.506057</td>\n",
       "      <td>4.999415</td>\n",
       "      <td>137.945408</td>\n",
       "    </tr>\n",
       "    <tr>\n",
       "      <th>AHL4O</th>\n",
       "      <td>12.702195</td>\n",
       "      <td>-8.147433</td>\n",
       "      <td>5.004363</td>\n",
       "      <td>134.766305</td>\n",
       "    </tr>\n",
       "  </tbody>\n",
       "</table>\n",
       "</div>"
      ],
      "text/plain": [
       "              f0         f1        f2     product\n",
       "id                                               \n",
       "kBEdx -15.001348  -8.276000 -0.005876    3.179103\n",
       "62mP7  14.272088  -3.475083  0.999183   26.953261\n",
       "vyE1P   6.263187  -5.948386  5.001160  134.766305\n",
       "KcrkZ -13.081196 -11.506057  4.999415  137.945408\n",
       "AHL4O  12.702195  -8.147433  5.004363  134.766305"
      ]
     },
     "execution_count": 17,
     "metadata": {},
     "output_type": "execute_result"
    }
   ],
   "source": [
    "data_1.head()"
   ]
  },
  {
   "cell_type": "code",
   "execution_count": 18,
   "metadata": {},
   "outputs": [
    {
     "data": {
      "text/html": [
       "<div>\n",
       "<style scoped>\n",
       "    .dataframe tbody tr th:only-of-type {\n",
       "        vertical-align: middle;\n",
       "    }\n",
       "\n",
       "    .dataframe tbody tr th {\n",
       "        vertical-align: top;\n",
       "    }\n",
       "\n",
       "    .dataframe thead th {\n",
       "        text-align: right;\n",
       "    }\n",
       "</style>\n",
       "<table border=\"1\" class=\"dataframe\">\n",
       "  <thead>\n",
       "    <tr style=\"text-align: right;\">\n",
       "      <th></th>\n",
       "      <th>f0</th>\n",
       "      <th>f1</th>\n",
       "      <th>f2</th>\n",
       "      <th>product</th>\n",
       "    </tr>\n",
       "  </thead>\n",
       "  <tbody>\n",
       "    <tr>\n",
       "      <th>count</th>\n",
       "      <td>100000.000000</td>\n",
       "      <td>100000.000000</td>\n",
       "      <td>100000.000000</td>\n",
       "      <td>100000.000000</td>\n",
       "    </tr>\n",
       "    <tr>\n",
       "      <th>mean</th>\n",
       "      <td>1.141296</td>\n",
       "      <td>-4.796579</td>\n",
       "      <td>2.494541</td>\n",
       "      <td>68.825000</td>\n",
       "    </tr>\n",
       "    <tr>\n",
       "      <th>std</th>\n",
       "      <td>8.965932</td>\n",
       "      <td>5.119872</td>\n",
       "      <td>1.703572</td>\n",
       "      <td>45.944423</td>\n",
       "    </tr>\n",
       "    <tr>\n",
       "      <th>min</th>\n",
       "      <td>-31.609576</td>\n",
       "      <td>-26.358598</td>\n",
       "      <td>-0.018144</td>\n",
       "      <td>0.000000</td>\n",
       "    </tr>\n",
       "    <tr>\n",
       "      <th>25%</th>\n",
       "      <td>-6.298551</td>\n",
       "      <td>-8.267985</td>\n",
       "      <td>1.000021</td>\n",
       "      <td>26.953261</td>\n",
       "    </tr>\n",
       "    <tr>\n",
       "      <th>50%</th>\n",
       "      <td>1.153055</td>\n",
       "      <td>-4.813172</td>\n",
       "      <td>2.011479</td>\n",
       "      <td>57.085625</td>\n",
       "    </tr>\n",
       "    <tr>\n",
       "      <th>75%</th>\n",
       "      <td>8.621015</td>\n",
       "      <td>-1.332816</td>\n",
       "      <td>3.999904</td>\n",
       "      <td>107.813044</td>\n",
       "    </tr>\n",
       "    <tr>\n",
       "      <th>max</th>\n",
       "      <td>29.421755</td>\n",
       "      <td>18.734063</td>\n",
       "      <td>5.019721</td>\n",
       "      <td>137.945408</td>\n",
       "    </tr>\n",
       "  </tbody>\n",
       "</table>\n",
       "</div>"
      ],
      "text/plain": [
       "                  f0             f1             f2        product\n",
       "count  100000.000000  100000.000000  100000.000000  100000.000000\n",
       "mean        1.141296      -4.796579       2.494541      68.825000\n",
       "std         8.965932       5.119872       1.703572      45.944423\n",
       "min       -31.609576     -26.358598      -0.018144       0.000000\n",
       "25%        -6.298551      -8.267985       1.000021      26.953261\n",
       "50%         1.153055      -4.813172       2.011479      57.085625\n",
       "75%         8.621015      -1.332816       3.999904     107.813044\n",
       "max        29.421755      18.734063       5.019721     137.945408"
      ]
     },
     "execution_count": 18,
     "metadata": {},
     "output_type": "execute_result"
    }
   ],
   "source": [
    "data_1.describe()"
   ]
  },
  {
   "cell_type": "code",
   "execution_count": 19,
   "metadata": {},
   "outputs": [
    {
     "name": "stdout",
     "output_type": "stream",
     "text": [
      "<class 'pandas.core.frame.DataFrame'>\n",
      "Index: 100000 entries, kBEdx to relB0\n",
      "Data columns (total 4 columns):\n",
      " #   Column   Non-Null Count   Dtype  \n",
      "---  ------   --------------   -----  \n",
      " 0   f0       100000 non-null  float64\n",
      " 1   f1       100000 non-null  float64\n",
      " 2   f2       100000 non-null  float64\n",
      " 3   product  100000 non-null  float64\n",
      "dtypes: float64(4)\n",
      "memory usage: 3.8+ MB\n"
     ]
    }
   ],
   "source": [
    "data_1.info()"
   ]
  },
  {
   "cell_type": "code",
   "execution_count": 20,
   "metadata": {},
   "outputs": [
    {
     "data": {
      "text/plain": [
       "0"
      ]
     },
     "execution_count": 20,
     "metadata": {},
     "output_type": "execute_result"
    }
   ],
   "source": [
    "data_1.duplicated().sum()"
   ]
  },
  {
   "cell_type": "code",
   "execution_count": 21,
   "metadata": {},
   "outputs": [
    {
     "data": {
      "image/png": "[encoded data removed]",
      "text/plain": [
       "<Figure size 1500x700 with 1 Axes>"
      ]
     },
     "metadata": {},
     "output_type": "display_data"
    }
   ],
   "source": [
    "plt.figure(figsize=(15, 7))\n",
    "sns.boxplot(data=data_1, orient='h')\n",
    "plt.title('График распределения данных data_1')\n",
    "plt.show()"
   ]
  },
  {
   "cell_type": "markdown",
   "metadata": {},
   "source": [
    "Целевой признак и признак f2 не имеют выбросов. Признаки f0 и f1 стоит рассмотреть внимательней."
   ]
  },
  {
   "cell_type": "code",
   "execution_count": 23,
   "metadata": {},
   "outputs": [
    {
     "data": {
      "image/png": "[encoded data removed]",
      "text/plain": [
       "<Figure size 1000x500 with 1 Axes>"
      ]
     },
     "metadata": {},
     "output_type": "display_data"
    }
   ],
   "source": [
    "plt.figure(figsize=(10, 5))\n",
    "sns.histplot(data_1['f1'], kde=True)\n",
    "plt.title('График распределения признака f1')\n",
    "plt.show()"
   ]
  },
  {
   "cell_type": "markdown",
   "metadata": {},
   "source": [
    "Приззнак f1 имеет нормальное распределение с большим количеством очень маленьких и очень больших значений. Выбросов нет."
   ]
  },
  {
   "cell_type": "code",
   "execution_count": 25,
   "metadata": {},
   "outputs": [
    {
     "data": {
      "image/png": "[encoded data removed]",
      "text/plain": [
       "<Figure size 1000x500 with 1 Axes>"
      ]
     },
     "metadata": {},
     "output_type": "display_data"
    }
   ],
   "source": [
    "plt.figure(figsize=(10, 5))\n",
    "sns.histplot(data_1['f0'], kde=True)\n",
    "plt.title('График распределения признака f0')\n",
    "plt.show()"
   ]
  },
  {
   "cell_type": "markdown",
   "metadata": {},
   "source": [
    "Признак f0 имеет бимодальное распределние с двумя пиками: в районе -8 и +10. Выбросов не наблюдается."
   ]
  },
  {
   "cell_type": "code",
   "execution_count": 27,
   "metadata": {},
   "outputs": [
    {
     "data": {
      "text/html": [
       "<div>\n",
       "<style scoped>\n",
       "    .dataframe tbody tr th:only-of-type {\n",
       "        vertical-align: middle;\n",
       "    }\n",
       "\n",
       "    .dataframe tbody tr th {\n",
       "        vertical-align: top;\n",
       "    }\n",
       "\n",
       "    .dataframe thead th {\n",
       "        text-align: right;\n",
       "    }\n",
       "</style>\n",
       "<table border=\"1\" class=\"dataframe\">\n",
       "  <thead>\n",
       "    <tr style=\"text-align: right;\">\n",
       "      <th></th>\n",
       "      <th>f0</th>\n",
       "      <th>f1</th>\n",
       "      <th>f2</th>\n",
       "      <th>product</th>\n",
       "    </tr>\n",
       "  </thead>\n",
       "  <tbody>\n",
       "    <tr>\n",
       "      <th>f0</th>\n",
       "      <td>1.000000</td>\n",
       "      <td>0.182248</td>\n",
       "      <td>-0.002000</td>\n",
       "      <td>-0.122869</td>\n",
       "    </tr>\n",
       "    <tr>\n",
       "      <th>f1</th>\n",
       "      <td>0.182248</td>\n",
       "      <td>1.000000</td>\n",
       "      <td>-0.003678</td>\n",
       "      <td>-0.033908</td>\n",
       "    </tr>\n",
       "    <tr>\n",
       "      <th>f2</th>\n",
       "      <td>-0.002000</td>\n",
       "      <td>-0.003678</td>\n",
       "      <td>1.000000</td>\n",
       "      <td>0.975605</td>\n",
       "    </tr>\n",
       "    <tr>\n",
       "      <th>product</th>\n",
       "      <td>-0.122869</td>\n",
       "      <td>-0.033908</td>\n",
       "      <td>0.975605</td>\n",
       "      <td>1.000000</td>\n",
       "    </tr>\n",
       "  </tbody>\n",
       "</table>\n",
       "</div>"
      ],
      "text/plain": [
       "               f0        f1        f2   product\n",
       "f0       1.000000  0.182248 -0.002000 -0.122869\n",
       "f1       0.182248  1.000000 -0.003678 -0.033908\n",
       "f2      -0.002000 -0.003678  1.000000  0.975605\n",
       "product -0.122869 -0.033908  0.975605  1.000000"
      ]
     },
     "execution_count": 27,
     "metadata": {},
     "output_type": "execute_result"
    }
   ],
   "source": [
    "corr_1 = data_1.corr(method='spearman')\n",
    "corr_1"
   ]
  },
  {
   "cell_type": "code",
   "execution_count": 28,
   "metadata": {},
   "outputs": [
    {
     "data": {
      "image/png": "[encoded data removed]",
      "text/plain": [
       "<Figure size 640x480 with 2 Axes>"
      ]
     },
     "metadata": {},
     "output_type": "display_data"
    }
   ],
   "source": [
    "sns.heatmap(corr_1, vmin=-1, annot=True, fmt='.2f')\n",
    "plt.title('Матрица корреляции для data_1')\n",
    "plt.show()"
   ]
  },
  {
   "cell_type": "markdown",
   "metadata": {},
   "source": [
    "Мультиколлинеарности между входными признаками нет. Таргет имеет очень высокую корреляцию с признаком f2."
   ]
  },
  {
   "cell_type": "markdown",
   "metadata": {},
   "source": [
    "* в датасете `data_1` содержится 100 000 строк и 5 столбцов;\n",
    "* пропусков, дубликатов и выбросов нет;\n",
    "* типы данных верные;\n",
    "* мультиколлинерности между признаками нет."
   ]
  },
  {
   "cell_type": "code",
   "execution_count": 31,
   "metadata": {},
   "outputs": [],
   "source": [
    "path1 = '/datasets/geo_data_2.csv'\n",
    "path2 = 'C:/Users/Kseno/Downloads/geo_data_2.csv'\n",
    "\n",
    "if os.path.exists(path1):\n",
    "    data_2 = pd.read_csv(path1, index_col='id')\n",
    "elif os.path.exists(path2):\n",
    "    data_2 = pd.read_csv(path2, index_col='id')\n",
    "else:\n",
    "    print('Что-то пошло не так')"
   ]
  },
  {
   "cell_type": "code",
   "execution_count": 32,
   "metadata": {},
   "outputs": [
    {
     "data": {
      "text/html": [
       "<div>\n",
       "<style scoped>\n",
       "    .dataframe tbody tr th:only-of-type {\n",
       "        vertical-align: middle;\n",
       "    }\n",
       "\n",
       "    .dataframe tbody tr th {\n",
       "        vertical-align: top;\n",
       "    }\n",
       "\n",
       "    .dataframe thead th {\n",
       "        text-align: right;\n",
       "    }\n",
       "</style>\n",
       "<table border=\"1\" class=\"dataframe\">\n",
       "  <thead>\n",
       "    <tr style=\"text-align: right;\">\n",
       "      <th></th>\n",
       "      <th>f0</th>\n",
       "      <th>f1</th>\n",
       "      <th>f2</th>\n",
       "      <th>product</th>\n",
       "    </tr>\n",
       "    <tr>\n",
       "      <th>id</th>\n",
       "      <th></th>\n",
       "      <th></th>\n",
       "      <th></th>\n",
       "      <th></th>\n",
       "    </tr>\n",
       "  </thead>\n",
       "  <tbody>\n",
       "    <tr>\n",
       "      <th>fwXo0</th>\n",
       "      <td>-1.146987</td>\n",
       "      <td>0.963328</td>\n",
       "      <td>-0.828965</td>\n",
       "      <td>27.758673</td>\n",
       "    </tr>\n",
       "    <tr>\n",
       "      <th>WJtFt</th>\n",
       "      <td>0.262778</td>\n",
       "      <td>0.269839</td>\n",
       "      <td>-2.530187</td>\n",
       "      <td>56.069697</td>\n",
       "    </tr>\n",
       "    <tr>\n",
       "      <th>ovLUW</th>\n",
       "      <td>0.194587</td>\n",
       "      <td>0.289035</td>\n",
       "      <td>-5.586433</td>\n",
       "      <td>62.871910</td>\n",
       "    </tr>\n",
       "    <tr>\n",
       "      <th>q6cA6</th>\n",
       "      <td>2.236060</td>\n",
       "      <td>-0.553760</td>\n",
       "      <td>0.930038</td>\n",
       "      <td>114.572842</td>\n",
       "    </tr>\n",
       "    <tr>\n",
       "      <th>WPMUX</th>\n",
       "      <td>-0.515993</td>\n",
       "      <td>1.716266</td>\n",
       "      <td>5.899011</td>\n",
       "      <td>149.600746</td>\n",
       "    </tr>\n",
       "  </tbody>\n",
       "</table>\n",
       "</div>"
      ],
      "text/plain": [
       "             f0        f1        f2     product\n",
       "id                                             \n",
       "fwXo0 -1.146987  0.963328 -0.828965   27.758673\n",
       "WJtFt  0.262778  0.269839 -2.530187   56.069697\n",
       "ovLUW  0.194587  0.289035 -5.586433   62.871910\n",
       "q6cA6  2.236060 -0.553760  0.930038  114.572842\n",
       "WPMUX -0.515993  1.716266  5.899011  149.600746"
      ]
     },
     "execution_count": 32,
     "metadata": {},
     "output_type": "execute_result"
    }
   ],
   "source": [
    "data_2.head()"
   ]
  },
  {
   "cell_type": "code",
   "execution_count": 33,
   "metadata": {},
   "outputs": [
    {
     "data": {
      "text/html": [
       "<div>\n",
       "<style scoped>\n",
       "    .dataframe tbody tr th:only-of-type {\n",
       "        vertical-align: middle;\n",
       "    }\n",
       "\n",
       "    .dataframe tbody tr th {\n",
       "        vertical-align: top;\n",
       "    }\n",
       "\n",
       "    .dataframe thead th {\n",
       "        text-align: right;\n",
       "    }\n",
       "</style>\n",
       "<table border=\"1\" class=\"dataframe\">\n",
       "  <thead>\n",
       "    <tr style=\"text-align: right;\">\n",
       "      <th></th>\n",
       "      <th>f0</th>\n",
       "      <th>f1</th>\n",
       "      <th>f2</th>\n",
       "      <th>product</th>\n",
       "    </tr>\n",
       "  </thead>\n",
       "  <tbody>\n",
       "    <tr>\n",
       "      <th>count</th>\n",
       "      <td>100000.000000</td>\n",
       "      <td>100000.000000</td>\n",
       "      <td>100000.000000</td>\n",
       "      <td>100000.000000</td>\n",
       "    </tr>\n",
       "    <tr>\n",
       "      <th>mean</th>\n",
       "      <td>0.002023</td>\n",
       "      <td>-0.002081</td>\n",
       "      <td>2.495128</td>\n",
       "      <td>95.000000</td>\n",
       "    </tr>\n",
       "    <tr>\n",
       "      <th>std</th>\n",
       "      <td>1.732045</td>\n",
       "      <td>1.730417</td>\n",
       "      <td>3.473445</td>\n",
       "      <td>44.749921</td>\n",
       "    </tr>\n",
       "    <tr>\n",
       "      <th>min</th>\n",
       "      <td>-8.760004</td>\n",
       "      <td>-7.084020</td>\n",
       "      <td>-11.970335</td>\n",
       "      <td>0.000000</td>\n",
       "    </tr>\n",
       "    <tr>\n",
       "      <th>25%</th>\n",
       "      <td>-1.162288</td>\n",
       "      <td>-1.174820</td>\n",
       "      <td>0.130359</td>\n",
       "      <td>59.450441</td>\n",
       "    </tr>\n",
       "    <tr>\n",
       "      <th>50%</th>\n",
       "      <td>0.009424</td>\n",
       "      <td>-0.009482</td>\n",
       "      <td>2.484236</td>\n",
       "      <td>94.925613</td>\n",
       "    </tr>\n",
       "    <tr>\n",
       "      <th>75%</th>\n",
       "      <td>1.158535</td>\n",
       "      <td>1.163678</td>\n",
       "      <td>4.858794</td>\n",
       "      <td>130.595027</td>\n",
       "    </tr>\n",
       "    <tr>\n",
       "      <th>max</th>\n",
       "      <td>7.238262</td>\n",
       "      <td>7.844801</td>\n",
       "      <td>16.739402</td>\n",
       "      <td>190.029838</td>\n",
       "    </tr>\n",
       "  </tbody>\n",
       "</table>\n",
       "</div>"
      ],
      "text/plain": [
       "                  f0             f1             f2        product\n",
       "count  100000.000000  100000.000000  100000.000000  100000.000000\n",
       "mean        0.002023      -0.002081       2.495128      95.000000\n",
       "std         1.732045       1.730417       3.473445      44.749921\n",
       "min        -8.760004      -7.084020     -11.970335       0.000000\n",
       "25%        -1.162288      -1.174820       0.130359      59.450441\n",
       "50%         0.009424      -0.009482       2.484236      94.925613\n",
       "75%         1.158535       1.163678       4.858794     130.595027\n",
       "max         7.238262       7.844801      16.739402     190.029838"
      ]
     },
     "execution_count": 33,
     "metadata": {},
     "output_type": "execute_result"
    }
   ],
   "source": [
    "data_2.describe()"
   ]
  },
  {
   "cell_type": "code",
   "execution_count": 34,
   "metadata": {
    "scrolled": true
   },
   "outputs": [
    {
     "name": "stdout",
     "output_type": "stream",
     "text": [
      "<class 'pandas.core.frame.DataFrame'>\n",
      "Index: 100000 entries, fwXo0 to V9kWn\n",
      "Data columns (total 4 columns):\n",
      " #   Column   Non-Null Count   Dtype  \n",
      "---  ------   --------------   -----  \n",
      " 0   f0       100000 non-null  float64\n",
      " 1   f1       100000 non-null  float64\n",
      " 2   f2       100000 non-null  float64\n",
      " 3   product  100000 non-null  float64\n",
      "dtypes: float64(4)\n",
      "memory usage: 3.8+ MB\n"
     ]
    }
   ],
   "source": [
    "data_2.info()"
   ]
  },
  {
   "cell_type": "code",
   "execution_count": 35,
   "metadata": {},
   "outputs": [
    {
     "data": {
      "text/plain": [
       "0"
      ]
     },
     "execution_count": 35,
     "metadata": {},
     "output_type": "execute_result"
    }
   ],
   "source": [
    "data_2.duplicated().sum()"
   ]
  },
  {
   "cell_type": "code",
   "execution_count": 36,
   "metadata": {},
   "outputs": [
    {
     "data": {
      "image/png": "[encoded data removed]",
      "text/plain": [
       "<Figure size 1500x700 with 1 Axes>"
      ]
     },
     "metadata": {},
     "output_type": "display_data"
    }
   ],
   "source": [
    "plt.figure(figsize=(15, 7))\n",
    "sns.boxplot(data=data_2, orient='h')\n",
    "plt.title('Распределение данных в data_2')\n",
    "plt.show()"
   ]
  },
  {
   "cell_type": "markdown",
   "metadata": {},
   "source": [
    "Целевой признак точно не имеет выбросов. Входные признаки стоит рассмотреть внимательнее."
   ]
  },
  {
   "cell_type": "code",
   "execution_count": 38,
   "metadata": {},
   "outputs": [
    {
     "data": {
      "image/png": "[encoded data removed]",
      "text/plain": [
       "<Figure size 1000x500 with 1 Axes>"
      ]
     },
     "metadata": {},
     "output_type": "display_data"
    }
   ],
   "source": [
    "plt.figure(figsize=(10, 5))\n",
    "sns.histplot(data_2['f0'], kde=True)\n",
    "plt.title('График распределения признака f0')\n",
    "plt.show()"
   ]
  },
  {
   "cell_type": "markdown",
   "metadata": {},
   "source": [
    "Признак f0 имеет нормальное распределение. Выбросов нет."
   ]
  },
  {
   "cell_type": "code",
   "execution_count": 40,
   "metadata": {},
   "outputs": [
    {
     "data": {
      "image/png": "[encoded data removed]",
      "text/plain": [
       "<Figure size 1000x500 with 1 Axes>"
      ]
     },
     "metadata": {},
     "output_type": "display_data"
    }
   ],
   "source": [
    "plt.figure(figsize=(10, 5))\n",
    "sns.histplot(data_2['f1'], kde=True)\n",
    "plt.title('График распределения признака f1')\n",
    "plt.show()"
   ]
  },
  {
   "cell_type": "markdown",
   "metadata": {},
   "source": [
    "Признак f1 так же имеет нормальное распределение без выбросов."
   ]
  },
  {
   "cell_type": "code",
   "execution_count": 42,
   "metadata": {},
   "outputs": [
    {
     "data": {
      "image/png": "[encoded data removed]",
      "text/plain": [
       "<Figure size 1000x500 with 1 Axes>"
      ]
     },
     "metadata": {},
     "output_type": "display_data"
    }
   ],
   "source": [
    "plt.figure(figsize=(10, 5))\n",
    "sns.histplot(data_2['f2'], kde=True)\n",
    "plt.title('График распределения признака f2')\n",
    "plt.show()"
   ]
  },
  {
   "cell_type": "markdown",
   "metadata": {},
   "source": [
    "Признак f2 так же имеет нормальное распределение без выбросов."
   ]
  },
  {
   "cell_type": "code",
   "execution_count": 44,
   "metadata": {
    "scrolled": true
   },
   "outputs": [
    {
     "data": {
      "image/png": "[encoded data removed]",
      "text/plain": [
       "<Figure size 640x480 with 2 Axes>"
      ]
     },
     "metadata": {},
     "output_type": "display_data"
    }
   ],
   "source": [
    "corr_2 = data_2.corr(method='spearman')\n",
    "sns.heatmap(corr_2, vmin=-1, annot=True, fmt='.2f')\n",
    "plt.title('Матрица корреляции для data_2')\n",
    "plt.show()"
   ]
  },
  {
   "cell_type": "markdown",
   "metadata": {},
   "source": [
    "Между входными признаками отсутствует корреляция. При этом с таргетом коррелирует только один признак. Применю полиномизацию признаков для исправления ситуации."
   ]
  },
  {
   "cell_type": "code",
   "execution_count": 46,
   "metadata": {},
   "outputs": [
    {
     "data": {
      "text/html": [
       "<div>\n",
       "<style scoped>\n",
       "    .dataframe tbody tr th:only-of-type {\n",
       "        vertical-align: middle;\n",
       "    }\n",
       "\n",
       "    .dataframe tbody tr th {\n",
       "        vertical-align: top;\n",
       "    }\n",
       "\n",
       "    .dataframe thead th {\n",
       "        text-align: right;\n",
       "    }\n",
       "</style>\n",
       "<table border=\"1\" class=\"dataframe\">\n",
       "  <thead>\n",
       "    <tr style=\"text-align: right;\">\n",
       "      <th></th>\n",
       "      <th>f0</th>\n",
       "      <th>f1</th>\n",
       "      <th>f2</th>\n",
       "      <th>f0^2</th>\n",
       "      <th>f0 f1</th>\n",
       "      <th>f0 f2</th>\n",
       "      <th>f1^2</th>\n",
       "      <th>f1 f2</th>\n",
       "      <th>f2^2</th>\n",
       "      <th>product</th>\n",
       "    </tr>\n",
       "  </thead>\n",
       "  <tbody>\n",
       "    <tr>\n",
       "      <th>0</th>\n",
       "      <td>-1.146987</td>\n",
       "      <td>0.963328</td>\n",
       "      <td>-0.828965</td>\n",
       "      <td>1.315579</td>\n",
       "      <td>-1.104925</td>\n",
       "      <td>0.950812</td>\n",
       "      <td>0.928001</td>\n",
       "      <td>-0.798565</td>\n",
       "      <td>0.687183</td>\n",
       "      <td>27.758673</td>\n",
       "    </tr>\n",
       "    <tr>\n",
       "      <th>1</th>\n",
       "      <td>0.262778</td>\n",
       "      <td>0.269839</td>\n",
       "      <td>-2.530187</td>\n",
       "      <td>0.069052</td>\n",
       "      <td>0.070908</td>\n",
       "      <td>-0.664877</td>\n",
       "      <td>0.072813</td>\n",
       "      <td>-0.682743</td>\n",
       "      <td>6.401844</td>\n",
       "      <td>56.069697</td>\n",
       "    </tr>\n",
       "    <tr>\n",
       "      <th>2</th>\n",
       "      <td>0.194587</td>\n",
       "      <td>0.289035</td>\n",
       "      <td>-5.586433</td>\n",
       "      <td>0.037864</td>\n",
       "      <td>0.056243</td>\n",
       "      <td>-1.087049</td>\n",
       "      <td>0.083541</td>\n",
       "      <td>-1.614675</td>\n",
       "      <td>31.208231</td>\n",
       "      <td>62.871910</td>\n",
       "    </tr>\n",
       "    <tr>\n",
       "      <th>3</th>\n",
       "      <td>2.236060</td>\n",
       "      <td>-0.553760</td>\n",
       "      <td>0.930038</td>\n",
       "      <td>4.999963</td>\n",
       "      <td>-1.238240</td>\n",
       "      <td>2.079620</td>\n",
       "      <td>0.306650</td>\n",
       "      <td>-0.515018</td>\n",
       "      <td>0.864970</td>\n",
       "      <td>114.572842</td>\n",
       "    </tr>\n",
       "    <tr>\n",
       "      <th>4</th>\n",
       "      <td>-0.515993</td>\n",
       "      <td>1.716266</td>\n",
       "      <td>5.899011</td>\n",
       "      <td>0.266249</td>\n",
       "      <td>-0.885581</td>\n",
       "      <td>-3.043848</td>\n",
       "      <td>2.945567</td>\n",
       "      <td>10.124270</td>\n",
       "      <td>34.798336</td>\n",
       "      <td>149.600746</td>\n",
       "    </tr>\n",
       "  </tbody>\n",
       "</table>\n",
       "</div>"
      ],
      "text/plain": [
       "         f0        f1        f2      f0^2     f0 f1     f0 f2      f1^2  \\\n",
       "0 -1.146987  0.963328 -0.828965  1.315579 -1.104925  0.950812  0.928001   \n",
       "1  0.262778  0.269839 -2.530187  0.069052  0.070908 -0.664877  0.072813   \n",
       "2  0.194587  0.289035 -5.586433  0.037864  0.056243 -1.087049  0.083541   \n",
       "3  2.236060 -0.553760  0.930038  4.999963 -1.238240  2.079620  0.306650   \n",
       "4 -0.515993  1.716266  5.899011  0.266249 -0.885581 -3.043848  2.945567   \n",
       "\n",
       "       f1 f2       f2^2     product  \n",
       "0  -0.798565   0.687183   27.758673  \n",
       "1  -0.682743   6.401844   56.069697  \n",
       "2  -1.614675  31.208231   62.871910  \n",
       "3  -0.515018   0.864970  114.572842  \n",
       "4  10.124270  34.798336  149.600746  "
      ]
     },
     "execution_count": 46,
     "metadata": {},
     "output_type": "execute_result"
    }
   ],
   "source": [
    "# Полиномизация признаков и создание датафрейма с новыми признаками и таргетом\n",
    "X = data_2[['f0', 'f1', 'f2']]\n",
    "y = data_2['product']\n",
    "\n",
    "poly = PolynomialFeatures(degree=2, include_bias=False).fit(X)\n",
    "X_poly = poly.transform(X)\n",
    "\n",
    "poly_data = pd.DataFrame(X_poly, columns=poly.get_feature_names_out(X.columns))\n",
    "result = pd.concat([poly_data, y.reset_index(drop=True)], axis=1)\n",
    "result.head()"
   ]
  },
  {
   "cell_type": "code",
   "execution_count": 47,
   "metadata": {
    "scrolled": true
   },
   "outputs": [
    {
     "data": {
      "image/png": "[encoded data removed]",
      "text/plain": [
       "<Figure size 900x800 with 2 Axes>"
      ]
     },
     "metadata": {},
     "output_type": "display_data"
    }
   ],
   "source": [
    "corr_poly = result.corr(method='spearman')\n",
    "plt.figure(figsize=(9, 8))\n",
    "sns.heatmap(corr_poly, vmin=-1, annot=True, fmt='.2f')\n",
    "plt.title('Матрица корреляции с полиномиальными признаками для data_2')\n",
    "plt.show()"
   ]
  },
  {
   "cell_type": "markdown",
   "metadata": {},
   "source": [
    "После полиномизации между несколькими входными признаками образовалась корреляция. Так же с целевым признаком стали коррелировать ещё 3 признака."
   ]
  },
  {
   "cell_type": "markdown",
   "metadata": {},
   "source": [
    "* в датасете `data_2` содержится 100 000 строк и 5 столбцов;\n",
    "* пропусков, дубликатов и выбросов нет;\n",
    "* типы данных верные;\n",
    "* признаки были полиномизованы для большей корреляции;\n",
    "* мультиколлинеарности между признаками нет."
   ]
  },
  {
   "cell_type": "markdown",
   "metadata": {},
   "source": [
    "**Итоги раздела:**\n",
    "1. В датафреймах `data_0`, `data_1` и `data_2` содержится по 100 000 строк и по 5 столбцов, в данных нет пропусков и дубликатов, типы данных верные.\n",
    "2. Все данные были проверены на выбросы, выбросов нет.\n",
    "3. Практически все признаки имеют нормальное распределение.\n",
    "4. Мультиколлинерности между признаками не наблюдается.\n",
    "5. Для увеличения корреляции признаки в `data_2` были полиномизованы."
   ]
  },
  {
   "cell_type": "markdown",
   "metadata": {},
   "source": [
    "## Обучение и проверка модели"
   ]
  },
  {
   "cell_type": "code",
   "execution_count": 52,
   "metadata": {
    "scrolled": true
   },
   "outputs": [],
   "source": [
    "def geo_pred(data, name):\n",
    "    \n",
    "    X_train, X_valid, y_train, y_valid = train_test_split(\n",
    "    data.drop('product', axis=1),\n",
    "    data['product'],\n",
    "    test_size=0.25,\n",
    "    random_state=RANDOM_STATE)\n",
    "\n",
    "    scaler = StandardScaler()\n",
    "    X_train_scaled = scaler.fit_transform(X_train)\n",
    "    X_valid_scaler = scaler.transform(X_valid)\n",
    "\n",
    "    model = LinearRegression()\n",
    "    model.fit(X_train_scaled, y_train)\n",
    "\n",
    "    pred = model.predict(X_valid_scaler)\n",
    "    rmse = root_mean_squared_error(y_valid, pred)\n",
    "    \n",
    "    print(f'Средний запас предсказанного сырья для региона {name} составляет: {pred.mean():.2f}')\n",
    "    print(f'RMSE модели для региона {name} составляет: {rmse:.2f}')\n",
    "    \n",
    "    df = pd.DataFrame(\n",
    "        {'pred':pred,\n",
    "         'actual':y_valid\n",
    "        }, index=y_valid.index\n",
    "    )\n",
    "    return df"
   ]
  },
  {
   "cell_type": "code",
   "execution_count": 53,
   "metadata": {},
   "outputs": [
    {
     "name": "stdout",
     "output_type": "stream",
     "text": [
      "Средний запас предсказанного сырья для региона data_0 составляет: 92.40\n",
      "RMSE модели для региона data_0 составляет: 37.76\n"
     ]
    }
   ],
   "source": [
    "result_0 = geo_pred(data_0, 'data_0')"
   ]
  },
  {
   "cell_type": "code",
   "execution_count": 54,
   "metadata": {},
   "outputs": [
    {
     "name": "stdout",
     "output_type": "stream",
     "text": [
      "Средний запас предсказанного сырья для региона data_1 составляет: 68.71\n",
      "RMSE модели для региона data_1 составляет: 0.89\n"
     ]
    }
   ],
   "source": [
    "result_1 = geo_pred(data_1, 'data_1')"
   ]
  },
  {
   "cell_type": "code",
   "execution_count": 55,
   "metadata": {},
   "outputs": [
    {
     "name": "stdout",
     "output_type": "stream",
     "text": [
      "Средний запас предсказанного сырья для региона data_2 составляет: 94.77\n",
      "RMSE модели для региона data_2 составляет: 40.15\n"
     ]
    }
   ],
   "source": [
    "result_2 = geo_pred(data_2, 'data_2')"
   ]
  },
  {
   "cell_type": "markdown",
   "metadata": {},
   "source": [
    "**Итоги раздела:**\n",
    "1. Средний запас предсказанного сырья для региона `data_0` составляет: 92.40\n",
    "2. RMSE модели для региона `data_0` составляет: 37.76\n",
    "3. Средний запас предсказанного сырья для региона `data_1` составляет: 68.71\n",
    "4. RMSE модели для региона `data_1` составляет: 0.89\n",
    "5. Средний запас предсказанного сырья для региона `data_2` составляет: 94.77\n",
    "6. RMSE модели для региона `data_2` составляет: 40.15\n",
    "7. По запасам сырья лидирует регион `data_2`, но имеет самую высокую среднеквадратичную ошибку.\n",
    "8. Регион `data_1` имеет самую низкую ошибку, но при этом самый низкий запас сырья.\n",
    "9. Предсказания и правильные ответы на валидационной выборке по каждому региону хранятся в датафреймах `result` с соответствующим номером региона."
   ]
  },
  {
   "cell_type": "markdown",
   "metadata": {},
   "source": [
    "## Подготовка к расчёту прибыли"
   ]
  },
  {
   "cell_type": "code",
   "execution_count": 58,
   "metadata": {},
   "outputs": [],
   "source": [
    "# Данные для расчётов\n",
    "BUDGET = 10_000_000_000\n",
    "BUDGET_PER_WELL = 50_000_000 # budget / well_best\n",
    "WELL_RESEARCH = 500\n",
    "WELL_BEST = 200\n",
    "INCOME = 450_000\n",
    "PROBABILITY = 2.5\n",
    "RISK = 1+(PROBABILITY/100) # Коэффициент риска"
   ]
  },
  {
   "cell_type": "code",
   "execution_count": 59,
   "metadata": {},
   "outputs": [
    {
     "data": {
      "text/plain": [
       "'Достаточный объём сырья для безубыточной разработки скважины: 108.40'"
      ]
     },
     "execution_count": 59,
     "metadata": {},
     "output_type": "execute_result"
    }
   ],
   "source": [
    "best_vol = BUDGET / (WELL_BEST*INCOME*RISK)\n",
    "f'Достаточный объём сырья для безубыточной разработки скважины: {best_vol:.2f}'"
   ]
  },
  {
   "cell_type": "markdown",
   "metadata": {},
   "source": [
    "**Итоги раздела:** \n",
    "1. Достаточный объём сырья для безубыточной разработки скважины: 108.40\n",
    "2. Средние предсказанные запасы сырья в регионах: \n",
    "  * `data_0`: 92.40\n",
    "  * `data_1`: 68.71\n",
    "  * `data_2`: 94.77\n",
    "3. Ни один регион не подходит."
   ]
  },
  {
   "cell_type": "markdown",
   "metadata": {},
   "source": [
    "## Функция для расчета прибыли "
   ]
  },
  {
   "cell_type": "code",
   "execution_count": 62,
   "metadata": {},
   "outputs": [],
   "source": [
    "# Функция для расчёта прибыли по лучшим скважинам в регионе\n",
    "def profit_sort(df, name):\n",
    "    sort = df.sort_values(by='pred', ascending=False).head(200)\n",
    "    amount = sort['pred'].sum()\n",
    "    profit = (amount * INCOME) - BUDGET\n",
    "    return f'Прибыль по выбранным лучшим скважинам в регионе {name} составляет {profit:.2f} рублей'"
   ]
  },
  {
   "cell_type": "code",
   "execution_count": 63,
   "metadata": {},
   "outputs": [
    {
     "data": {
      "text/plain": [
       "'Прибыль по выбранным лучшим скважинам в регионе data_0 составляет 3896658479.67 рублей'"
      ]
     },
     "execution_count": 63,
     "metadata": {},
     "output_type": "execute_result"
    }
   ],
   "source": [
    "profit_sort(result_0, 'data_0')"
   ]
  },
  {
   "cell_type": "code",
   "execution_count": 64,
   "metadata": {},
   "outputs": [
    {
     "data": {
      "text/plain": [
       "'Прибыль по выбранным лучшим скважинам в регионе data_1 составляет 2486938115.00 рублей'"
      ]
     },
     "execution_count": 64,
     "metadata": {},
     "output_type": "execute_result"
    }
   ],
   "source": [
    "profit_sort(result_1, 'data_1')"
   ]
  },
  {
   "cell_type": "code",
   "execution_count": 65,
   "metadata": {},
   "outputs": [
    {
     "data": {
      "text/plain": [
       "'Прибыль по выбранным лучшим скважинам в регионе data_2 составляет 3377981513.71 рублей'"
      ]
     },
     "execution_count": 65,
     "metadata": {},
     "output_type": "execute_result"
    }
   ],
   "source": [
    "profit_sort(result_2, 'data_2')"
   ]
  },
  {
   "cell_type": "markdown",
   "metadata": {},
   "source": [
    "**Итоги раздела:**\n",
    "1. Суммарная прибыль по 200 лучшим скважинам в регионе составляет:\n",
    "  * `data_0` 3 896 658 479.67 рублей\n",
    "  * `data_1` 2 486 938 115.00 рублей\n",
    "  * `data_2` 3 377 981 513.71 рублей\n",
    "2. Лидирует регион `data_0`"
   ]
  },
  {
   "cell_type": "markdown",
   "metadata": {},
   "source": [
    "## Риски и прибыль для каждого региона"
   ]
  },
  {
   "cell_type": "code",
   "execution_count": 68,
   "metadata": {},
   "outputs": [],
   "source": [
    "def calculate_profit(df, name):\n",
    "    state = np.random.RandomState(12345)\n",
    "    \n",
    "    def simple_profit(actual, pred):\n",
    "        pred_sorted = pred.sort_values(ascending=False)\n",
    "        sel_points = actual[pred_sorted.index][:WELL_BEST]\n",
    "        product = sel_points.sum()\n",
    "        revenue = product * INCOME\n",
    "        cost = BUDGET\n",
    "        return revenue - cost\n",
    "\n",
    "    profits = []\n",
    "\n",
    "    for _ in range(1000):\n",
    "        targets = df['actual'].sample(n=500, replace=True, random_state=state)\n",
    "        predictions = df['pred'].loc[targets.index]\n",
    "        profit = simple_profit(targets, predictions)\n",
    "        profits.append(profit)\n",
    "    \n",
    "    profits = np.array(profits)\n",
    "    mean_profit = np.mean(profits)\n",
    "    conf_interval = np.quantile(profits, [0.025, 0.975])\n",
    "    risk = (profits < 0).mean()*100\n",
    "    return f'Средняя прибыль для региона {name} составляет: {mean_profit}, доверительный интервал [{conf_interval[0]:.2f}, {conf_interval[1]:.2f}], риск убытков {risk}%'"
   ]
  },
  {
   "cell_type": "code",
   "execution_count": 69,
   "metadata": {},
   "outputs": [
    {
     "data": {
      "text/plain": [
       "'Средняя прибыль для региона data_0 составляет: 435933772.1386621, доверительный интервал [-116231612.78, 966504180.71], риск убытков 6.1%'"
      ]
     },
     "execution_count": 69,
     "metadata": {},
     "output_type": "execute_result"
    }
   ],
   "source": [
    "calculate_profit(result_0, 'data_0')"
   ]
  },
  {
   "cell_type": "code",
   "execution_count": 70,
   "metadata": {},
   "outputs": [
    {
     "data": {
      "text/plain": [
       "'Средняя прибыль для региона data_1 составляет: 489661254.41175246, доверительный интервал [55116177.27, 905762650.42], риск убытков 1.0999999999999999%'"
      ]
     },
     "execution_count": 70,
     "metadata": {},
     "output_type": "execute_result"
    }
   ],
   "source": [
    "calculate_profit(result_1, 'data_1')"
   ]
  },
  {
   "cell_type": "code",
   "execution_count": 71,
   "metadata": {},
   "outputs": [
    {
     "data": {
      "text/plain": [
       "'Средняя прибыль для региона data_2 составляет: 403687927.86213845, доверительный интервал [-153116984.76, 952887416.71], риск убытков 7.1%'"
      ]
     },
     "execution_count": 71,
     "metadata": {},
     "output_type": "execute_result"
    }
   ],
   "source": [
    "calculate_profit(result_2, 'data_2')"
   ]
  },
  {
   "cell_type": "markdown",
   "metadata": {},
   "source": [
    "**Вывод:** для разработки лучше всего подойдет регион `data_1`. Не смотря на самые низкие запасы нефти модель, обученная на данных этого региона совершает минимум ошибок. Так же по расчётам в этом регионе ожидается самая высокая прибыль, 95%-й доверительный интервал находится в положительных границах, в отличие от остальных регионов, а так же в этом регионе самый низкий риск убытков."
   ]
  },
  {
   "cell_type": "markdown",
   "metadata": {},
   "source": [
    "**Итоги раздела:**\n",
    "1. Средняя прибыль для региона `data_0` составляет: 435 933 772.14, доверительный интервал [-116231612.78, 966504180.71], риск убытков 6.1%.\n",
    "2. Средняя прибыль для региона `data_1` составляет: 489 661 254.41, доверительный интервал [55116177.27, 905762650.42], риск убытков 1.10%.\n",
    "3. Средняя прибыль для региона `data_2` составляет: 403 687 927.86, доверительный интервал [-153116984.76, 952887416.71], риск убытков 7.1%.\n",
    "4. Лучшим регином для разработки скважин был выбран `data_1`, так как в этом регионе ожидается самая высокая прибыль, 95%-й доверительный интервал находится в положительных границах, а так же в этом регионе самый низкий риск убытков."
   ]
  },
  {
   "cell_type": "markdown",
   "metadata": {},
   "source": [
    "## Общий вывод"
   ]
  },
  {
   "cell_type": "markdown",
   "metadata": {},
   "source": [
    "### В этом проекте я проделала следующую работу:\n",
    "1. Загрузила данные из 3-х датафреймов: `data_0`, `data_1` и `data_2`.\n",
    "2. Изучила распределение целевого и входных признаков для всех датафреймов.\n",
    "3. Провела полиномизацию признаков в датафрейме `data_2`.\n",
    "4. Построила матрицы корреляции для всех данных.\n",
    "5. Обучила модель Линейной регрессии для предсказания запасов сырья.\n",
    "6. Получила предсказание среднего запаса сырья и RMSE модели для каждого региона.\n",
    "7. Рассчитала прибыль, достаточный объем сырья для безубытной разработки скважины, 95%-й доверительный интервал и риск убытков для каждого региона."
   ]
  },
  {
   "cell_type": "markdown",
   "metadata": {},
   "source": [
    "### На основании проделанной работы можно сделать следующие выводы:\n",
    "* В датафреймах `data_0`, `data_1` и `data_2` содержится по 100 000 строк и по 5 столбцов, в данных нет пропусков и дубликатов, типы данных верные, выбросов нет, почти все признаки имеют нормальное распределение, мультиколлинерности не наблюдается.\n",
    "* Средний запас предсказанного сырья для региона `data_0` составляет: 92.40; RMSE модели: 37.76.\n",
    "* Средний запас предсказанного сырья для региона `data_1` составляет: 68.71; RMSE модели: 0.89.\n",
    "* Средний запас предсказанного сырья для региона `data_2` составляет: 94.77; RMSE модели: 40.15.\n",
    "* Достаточный объём сырья для безубыточной разработки скважины: 108.40.\n",
    "* Суммарная прибыль по 200 лучшим скважинам в регионе составляет:\n",
    "  * `data_0` 3 896 658 479.67 рублей\n",
    "  * `data_1` 2 486 938 115.00 рублей\n",
    "  * `data_2` 3 377 981 513.71 рублей\n",
    "* Средняя прибыль для региона `data_0` составляет: 435 933 772.14, доверительный интервал [-116231612.78, 966504180.71], риск убытков 6.1%.\n",
    "* Средняя прибыль для региона `data_1` составляет: 489 661 254.41, доверительный интервал [55116177.27, 905762650.42], риск убытков 1.10%.\n",
    "* Средняя прибыль для региона `data_2` составляет: 403 687 927.86, доверительный интервал [-153116984.76, 952887416.71], риск убытков 7.1%.\n",
    "* Лучшим регином для разработки скважин был выбран `data_1`, так как в этом регионе ожидается самая высокая прибыль, 95%-й доверительный интервал находится в положительных границах, а так же в этом регионе самый низкий риск убытков."
   ]
  },
  {
   "cell_type": "markdown",
   "metadata": {},
   "source": [
    "### Рекомендации:\n",
    "1. Вести разработку новых скважин в регионе `data_1`."
   ]
  },
  {
   "cell_type": "code",
   "execution_count": null,
   "metadata": {},
   "outputs": [],
   "source": []
  }
 ],
 "metadata": {
  "ExecuteTimeLog": [
   {
    "duration": 378,
    "start_time": "2024-08-22T08:52:01.502Z"
   },
   {
    "duration": 70,
    "start_time": "2024-08-22T08:56:54.494Z"
   },
   {
    "duration": 2,
    "start_time": "2024-08-22T08:57:10.880Z"
   },
   {
    "duration": 700,
    "start_time": "2024-08-22T08:57:11.964Z"
   },
   {
    "duration": 16,
    "start_time": "2024-08-22T08:57:38.626Z"
   },
   {
    "duration": 54,
    "start_time": "2024-08-22T08:58:14.052Z"
   },
   {
    "duration": 25,
    "start_time": "2024-08-22T08:59:10.850Z"
   },
   {
    "duration": 606,
    "start_time": "2024-08-22T09:01:58.264Z"
   },
   {
    "duration": 9,
    "start_time": "2024-08-22T09:02:09.208Z"
   },
   {
    "duration": 41,
    "start_time": "2024-08-22T09:02:25.625Z"
   },
   {
    "duration": 21,
    "start_time": "2024-08-22T09:02:38.144Z"
   },
   {
    "duration": 639,
    "start_time": "2024-08-22T09:04:03.338Z"
   },
   {
    "duration": 9,
    "start_time": "2024-08-22T09:04:14.364Z"
   },
   {
    "duration": 17,
    "start_time": "2024-08-22T09:04:26.097Z"
   },
   {
    "duration": 35,
    "start_time": "2024-08-22T09:04:39.764Z"
   },
   {
    "duration": 399,
    "start_time": "2024-08-22T13:32:46.903Z"
   },
   {
    "duration": 540,
    "start_time": "2024-08-22T13:32:47.306Z"
   },
   {
    "duration": 14,
    "start_time": "2024-08-22T13:32:47.848Z"
   },
   {
    "duration": 37,
    "start_time": "2024-08-22T13:32:47.863Z"
   },
   {
    "duration": 12,
    "start_time": "2024-08-22T13:32:47.902Z"
   },
   {
    "duration": 191,
    "start_time": "2024-08-22T13:32:47.916Z"
   },
   {
    "duration": 8,
    "start_time": "2024-08-22T13:32:48.108Z"
   },
   {
    "duration": 33,
    "start_time": "2024-08-22T13:32:48.118Z"
   },
   {
    "duration": 12,
    "start_time": "2024-08-22T13:32:48.152Z"
   },
   {
    "duration": 188,
    "start_time": "2024-08-22T13:32:48.166Z"
   },
   {
    "duration": 8,
    "start_time": "2024-08-22T13:32:48.356Z"
   },
   {
    "duration": 35,
    "start_time": "2024-08-22T13:32:48.365Z"
   },
   {
    "duration": 13,
    "start_time": "2024-08-22T13:32:48.401Z"
   },
   {
    "duration": 744,
    "start_time": "2024-08-22T13:54:56.205Z"
   },
   {
    "duration": 408,
    "start_time": "2024-08-22T13:55:38.299Z"
   },
   {
    "duration": 492,
    "start_time": "2024-08-22T13:57:15.141Z"
   },
   {
    "duration": 409,
    "start_time": "2024-08-22T13:57:19.402Z"
   },
   {
    "duration": 95,
    "start_time": "2024-08-22T14:01:16.895Z"
   },
   {
    "duration": 151,
    "start_time": "2024-08-22T14:01:29.203Z"
   },
   {
    "duration": 4720,
    "start_time": "2024-08-22T14:02:11.072Z"
   },
   {
    "duration": 60,
    "start_time": "2024-08-22T14:06:18.231Z"
   },
   {
    "duration": 60,
    "start_time": "2024-08-22T14:06:23.815Z"
   },
   {
    "duration": 156,
    "start_time": "2024-08-22T14:06:41.082Z"
   },
   {
    "duration": 136,
    "start_time": "2024-08-22T14:11:57.708Z"
   },
   {
    "duration": 38,
    "start_time": "2024-08-22T14:12:37.778Z"
   },
   {
    "duration": 228,
    "start_time": "2024-08-22T14:13:07.403Z"
   },
   {
    "duration": 128,
    "start_time": "2024-08-22T14:13:50.729Z"
   },
   {
    "duration": 174,
    "start_time": "2024-08-22T14:14:06.035Z"
   },
   {
    "duration": 144,
    "start_time": "2024-08-22T14:14:15.729Z"
   },
   {
    "duration": 172,
    "start_time": "2024-08-22T14:14:21.776Z"
   },
   {
    "duration": 275,
    "start_time": "2024-08-22T14:20:09.796Z"
   },
   {
    "duration": 309,
    "start_time": "2024-08-22T14:21:29.082Z"
   },
   {
    "duration": 282,
    "start_time": "2024-08-22T14:22:33.681Z"
   },
   {
    "duration": 551,
    "start_time": "2024-08-22T14:23:20.597Z"
   },
   {
    "duration": 550,
    "start_time": "2024-08-22T14:23:30.691Z"
   },
   {
    "duration": 585,
    "start_time": "2024-08-22T14:23:55.773Z"
   },
   {
    "duration": 574,
    "start_time": "2024-08-22T14:24:31.003Z"
   },
   {
    "duration": 79,
    "start_time": "2024-08-22T14:46:57.256Z"
   },
   {
    "duration": 41,
    "start_time": "2024-08-22T15:24:12.535Z"
   },
   {
    "duration": 140,
    "start_time": "2024-08-22T15:24:45.099Z"
   },
   {
    "duration": 162,
    "start_time": "2024-08-22T15:28:12.060Z"
   },
   {
    "duration": 163,
    "start_time": "2024-08-22T15:29:54.954Z"
   },
   {
    "duration": 275,
    "start_time": "2024-08-22T15:30:43.228Z"
   },
   {
    "duration": 1284,
    "start_time": "2024-08-23T15:35:06.807Z"
   },
   {
    "duration": 661,
    "start_time": "2024-08-23T15:35:08.094Z"
   },
   {
    "duration": 13,
    "start_time": "2024-08-23T15:35:08.756Z"
   },
   {
    "duration": 38,
    "start_time": "2024-08-23T15:35:08.771Z"
   },
   {
    "duration": 14,
    "start_time": "2024-08-23T15:35:08.810Z"
   },
   {
    "duration": 44,
    "start_time": "2024-08-23T15:35:08.826Z"
   },
   {
    "duration": 215,
    "start_time": "2024-08-23T15:35:08.871Z"
   },
   {
    "duration": 309,
    "start_time": "2024-08-23T15:35:09.089Z"
   },
   {
    "duration": 575,
    "start_time": "2024-08-23T15:35:09.400Z"
   },
   {
    "duration": 8,
    "start_time": "2024-08-23T15:35:09.978Z"
   },
   {
    "duration": 37,
    "start_time": "2024-08-23T15:35:09.988Z"
   },
   {
    "duration": 13,
    "start_time": "2024-08-23T15:35:10.026Z"
   },
   {
    "duration": 53,
    "start_time": "2024-08-23T15:35:10.041Z"
   },
   {
    "duration": 187,
    "start_time": "2024-08-23T15:35:10.096Z"
   },
   {
    "duration": 525,
    "start_time": "2024-08-23T15:35:10.285Z"
   },
   {
    "duration": 9,
    "start_time": "2024-08-23T15:35:10.812Z"
   },
   {
    "duration": 46,
    "start_time": "2024-08-23T15:35:10.822Z"
   },
   {
    "duration": 15,
    "start_time": "2024-08-23T15:35:10.870Z"
   },
   {
    "duration": 132,
    "start_time": "2024-08-23T15:42:20.370Z"
   },
   {
    "duration": 65,
    "start_time": "2024-08-23T15:50:42.385Z"
   },
   {
    "duration": 365,
    "start_time": "2024-08-23T15:50:55.834Z"
   },
   {
    "duration": 333,
    "start_time": "2024-08-23T15:51:44.779Z"
   },
   {
    "duration": 278,
    "start_time": "2024-08-23T15:52:08.022Z"
   },
   {
    "duration": 301,
    "start_time": "2024-08-23T15:52:40.030Z"
   },
   {
    "duration": 439,
    "start_time": "2024-08-23T16:06:30.227Z"
   },
   {
    "duration": 345,
    "start_time": "2024-08-23T16:07:17.564Z"
   },
   {
    "duration": 286,
    "start_time": "2024-08-23T16:10:13.355Z"
   },
   {
    "duration": 59,
    "start_time": "2024-08-23T16:17:05.841Z"
   },
   {
    "duration": 285,
    "start_time": "2024-08-23T16:17:59.732Z"
   },
   {
    "duration": 42,
    "start_time": "2024-08-23T16:22:39.927Z"
   },
   {
    "duration": 21,
    "start_time": "2024-08-23T16:23:03.692Z"
   },
   {
    "duration": 187,
    "start_time": "2024-08-23T16:23:39.474Z"
   },
   {
    "duration": 427,
    "start_time": "2024-08-23T16:25:29.000Z"
   },
   {
    "duration": 352,
    "start_time": "2024-08-23T16:26:32.315Z"
   },
   {
    "duration": 373,
    "start_time": "2024-08-23T16:26:50.966Z"
   },
   {
    "duration": 351,
    "start_time": "2024-08-23T16:27:16.373Z"
   },
   {
    "duration": 944,
    "start_time": "2024-08-23T16:30:36.549Z"
   },
   {
    "duration": 11,
    "start_time": "2024-08-23T16:33:06.709Z"
   },
   {
    "duration": 1887,
    "start_time": "2024-08-23T16:33:26.197Z"
   },
   {
    "duration": 375,
    "start_time": "2024-08-23T16:49:25.924Z"
   },
   {
    "duration": 768,
    "start_time": "2024-08-23T16:50:20.423Z"
   },
   {
    "duration": 1027,
    "start_time": "2024-08-23T16:50:33.872Z"
   },
   {
    "duration": 327,
    "start_time": "2024-08-23T16:50:51.959Z"
   },
   {
    "duration": 371,
    "start_time": "2024-08-23T16:51:19.479Z"
   },
   {
    "duration": 904,
    "start_time": "2024-08-23T16:51:23.967Z"
   },
   {
    "duration": 1076,
    "start_time": "2024-08-23T16:51:40.407Z"
   },
   {
    "duration": 831,
    "start_time": "2024-08-23T16:52:06.955Z"
   },
   {
    "duration": 817,
    "start_time": "2024-08-23T17:03:47.116Z"
   },
   {
    "duration": 60,
    "start_time": "2024-08-23T17:05:22.828Z"
   },
   {
    "duration": 64,
    "start_time": "2024-08-23T17:05:30.693Z"
   },
   {
    "duration": 341,
    "start_time": "2024-08-23T17:06:19.379Z"
   },
   {
    "duration": 9,
    "start_time": "2024-08-23T17:15:04.063Z"
   },
   {
    "duration": 36,
    "start_time": "2024-08-23T17:26:36.168Z"
   },
   {
    "duration": 159,
    "start_time": "2024-08-23T17:27:05.609Z"
   },
   {
    "duration": 8,
    "start_time": "2024-08-23T17:27:08.291Z"
   },
   {
    "duration": 28,
    "start_time": "2024-08-23T17:27:37.603Z"
   },
   {
    "duration": 12,
    "start_time": "2024-08-23T17:43:47.381Z"
   },
   {
    "duration": 319,
    "start_time": "2024-08-23T17:44:16.037Z"
   },
   {
    "duration": 28,
    "start_time": "2024-08-23T17:44:23.680Z"
   },
   {
    "duration": 54,
    "start_time": "2024-08-23T17:44:58.123Z"
   },
   {
    "duration": 39,
    "start_time": "2024-08-23T17:46:06.584Z"
   },
   {
    "duration": 202,
    "start_time": "2024-08-23T17:46:28.819Z"
   },
   {
    "duration": 792,
    "start_time": "2024-08-23T17:46:34.073Z"
   },
   {
    "duration": 43,
    "start_time": "2024-08-23T17:52:26.662Z"
   },
   {
    "duration": 182,
    "start_time": "2024-08-23T17:52:35.852Z"
   },
   {
    "duration": 873,
    "start_time": "2024-08-23T17:52:39.198Z"
   },
   {
    "duration": 359,
    "start_time": "2024-08-23T17:54:09.751Z"
   },
   {
    "duration": 378,
    "start_time": "2024-08-23T17:54:32.678Z"
   },
   {
    "duration": 370,
    "start_time": "2024-08-23T17:54:38.830Z"
   },
   {
    "duration": 339,
    "start_time": "2024-08-23T17:54:55.758Z"
   },
   {
    "duration": 34,
    "start_time": "2024-08-23T17:57:31.560Z"
   },
   {
    "duration": 981,
    "start_time": "2024-08-23T17:57:35.020Z"
   },
   {
    "duration": 1115,
    "start_time": "2024-08-23T17:57:55.662Z"
   },
   {
    "duration": 989,
    "start_time": "2024-08-23T17:58:02.712Z"
   },
   {
    "duration": 1029,
    "start_time": "2024-08-23T17:58:09.728Z"
   },
   {
    "duration": 1014,
    "start_time": "2024-08-23T17:58:22.461Z"
   },
   {
    "duration": 1019,
    "start_time": "2024-08-23T17:58:27.781Z"
   },
   {
    "duration": 32,
    "start_time": "2024-08-23T17:59:28.855Z"
   },
   {
    "duration": 1405,
    "start_time": "2024-08-23T18:26:27.965Z"
   },
   {
    "duration": 172,
    "start_time": "2024-08-23T18:26:29.371Z"
   },
   {
    "duration": 11,
    "start_time": "2024-08-23T18:26:29.545Z"
   },
   {
    "duration": 49,
    "start_time": "2024-08-23T18:26:29.558Z"
   },
   {
    "duration": 9,
    "start_time": "2024-08-23T18:26:29.608Z"
   },
   {
    "duration": 26,
    "start_time": "2024-08-23T18:26:29.619Z"
   },
   {
    "duration": 203,
    "start_time": "2024-08-23T18:26:29.647Z"
   },
   {
    "duration": 883,
    "start_time": "2024-08-23T18:26:29.852Z"
   },
   {
    "duration": 81,
    "start_time": "2024-08-23T18:26:30.737Z"
   },
   {
    "duration": 312,
    "start_time": "2024-08-23T18:26:30.821Z"
   },
   {
    "duration": 172,
    "start_time": "2024-08-23T18:26:31.134Z"
   },
   {
    "duration": 8,
    "start_time": "2024-08-23T18:26:31.308Z"
   },
   {
    "duration": 37,
    "start_time": "2024-08-23T18:26:31.318Z"
   },
   {
    "duration": 8,
    "start_time": "2024-08-23T18:26:31.356Z"
   },
   {
    "duration": 49,
    "start_time": "2024-08-23T18:26:31.366Z"
   },
   {
    "duration": 167,
    "start_time": "2024-08-23T18:26:31.417Z"
   },
   {
    "duration": 926,
    "start_time": "2024-08-23T18:26:31.591Z"
   },
   {
    "duration": 845,
    "start_time": "2024-08-23T18:26:32.519Z"
   },
   {
    "duration": 64,
    "start_time": "2024-08-23T18:26:33.366Z"
   },
   {
    "duration": 301,
    "start_time": "2024-08-23T18:26:33.431Z"
   },
   {
    "duration": 177,
    "start_time": "2024-08-23T18:26:33.733Z"
   },
   {
    "duration": 9,
    "start_time": "2024-08-23T18:26:33.912Z"
   },
   {
    "duration": 34,
    "start_time": "2024-08-23T18:26:33.922Z"
   },
   {
    "duration": 10,
    "start_time": "2024-08-23T18:26:33.957Z"
   },
   {
    "duration": 55,
    "start_time": "2024-08-23T18:26:33.968Z"
   },
   {
    "duration": 204,
    "start_time": "2024-08-23T18:26:34.025Z"
   },
   {
    "duration": 998,
    "start_time": "2024-08-23T18:26:34.231Z"
   },
   {
    "duration": 874,
    "start_time": "2024-08-23T18:26:35.232Z"
   },
   {
    "duration": 998,
    "start_time": "2024-08-23T18:26:36.107Z"
   },
   {
    "duration": 407,
    "start_time": "2024-08-23T18:26:37.106Z"
   },
   {
    "duration": 400,
    "start_time": "2024-08-23T18:26:37.515Z"
   },
   {
    "duration": 0,
    "start_time": "2024-08-23T18:26:37.916Z"
   },
   {
    "duration": 29,
    "start_time": "2024-08-23T18:37:48.977Z"
   },
   {
    "duration": 321,
    "start_time": "2024-08-23T18:37:58.216Z"
   },
   {
    "duration": 33,
    "start_time": "2024-08-23T18:39:22.735Z"
   },
   {
    "duration": 1286,
    "start_time": "2024-08-23T18:39:34.838Z"
   },
   {
    "duration": 176,
    "start_time": "2024-08-23T18:39:36.125Z"
   },
   {
    "duration": 13,
    "start_time": "2024-08-23T18:39:36.303Z"
   },
   {
    "duration": 33,
    "start_time": "2024-08-23T18:39:36.318Z"
   },
   {
    "duration": 9,
    "start_time": "2024-08-23T18:39:36.352Z"
   },
   {
    "duration": 45,
    "start_time": "2024-08-23T18:39:36.363Z"
   },
   {
    "duration": 178,
    "start_time": "2024-08-23T18:39:36.409Z"
   },
   {
    "duration": 889,
    "start_time": "2024-08-23T18:39:36.589Z"
   },
   {
    "duration": 72,
    "start_time": "2024-08-23T18:39:37.480Z"
   },
   {
    "duration": 356,
    "start_time": "2024-08-23T18:39:37.554Z"
   },
   {
    "duration": 165,
    "start_time": "2024-08-23T18:39:37.911Z"
   },
   {
    "duration": 20,
    "start_time": "2024-08-23T18:39:38.077Z"
   },
   {
    "duration": 36,
    "start_time": "2024-08-23T18:39:38.098Z"
   },
   {
    "duration": 9,
    "start_time": "2024-08-23T18:39:38.135Z"
   },
   {
    "duration": 21,
    "start_time": "2024-08-23T18:39:38.145Z"
   },
   {
    "duration": 200,
    "start_time": "2024-08-23T18:39:38.168Z"
   },
   {
    "duration": 899,
    "start_time": "2024-08-23T18:39:38.369Z"
   },
   {
    "duration": 735,
    "start_time": "2024-08-23T18:39:39.269Z"
   },
   {
    "duration": 55,
    "start_time": "2024-08-23T18:39:40.006Z"
   },
   {
    "duration": 348,
    "start_time": "2024-08-23T18:39:40.063Z"
   },
   {
    "duration": 161,
    "start_time": "2024-08-23T18:39:40.413Z"
   },
   {
    "duration": 8,
    "start_time": "2024-08-23T18:39:40.575Z"
   },
   {
    "duration": 64,
    "start_time": "2024-08-23T18:39:40.590Z"
   },
   {
    "duration": 9,
    "start_time": "2024-08-23T18:39:40.655Z"
   },
   {
    "duration": 47,
    "start_time": "2024-08-23T18:39:40.666Z"
   },
   {
    "duration": 193,
    "start_time": "2024-08-23T18:39:40.715Z"
   },
   {
    "duration": 906,
    "start_time": "2024-08-23T18:39:40.909Z"
   },
   {
    "duration": 866,
    "start_time": "2024-08-23T18:39:41.818Z"
   },
   {
    "duration": 869,
    "start_time": "2024-08-23T18:39:42.697Z"
   },
   {
    "duration": 361,
    "start_time": "2024-08-23T18:39:43.567Z"
   },
   {
    "duration": 32,
    "start_time": "2024-08-23T18:39:43.929Z"
   },
   {
    "duration": 983,
    "start_time": "2024-08-23T18:39:43.962Z"
   },
   {
    "duration": 124,
    "start_time": "2024-08-23T18:51:19.705Z"
   },
   {
    "duration": 3,
    "start_time": "2024-08-23T18:51:30.290Z"
   },
   {
    "duration": 848,
    "start_time": "2024-08-23T18:58:37.263Z"
   },
   {
    "duration": 8,
    "start_time": "2024-08-23T18:59:11.289Z"
   },
   {
    "duration": 11,
    "start_time": "2024-08-23T19:00:30.544Z"
   },
   {
    "duration": 32,
    "start_time": "2024-08-23T19:00:47.470Z"
   },
   {
    "duration": 6,
    "start_time": "2024-08-23T19:25:13.417Z"
   },
   {
    "duration": 161,
    "start_time": "2024-08-23T19:26:20.230Z"
   },
   {
    "duration": 4,
    "start_time": "2024-08-23T19:26:41.252Z"
   },
   {
    "duration": 122,
    "start_time": "2024-08-23T19:26:41.268Z"
   },
   {
    "duration": 4,
    "start_time": "2024-08-23T19:34:15.669Z"
   },
   {
    "duration": 203,
    "start_time": "2024-08-23T19:34:16.287Z"
   },
   {
    "duration": 113,
    "start_time": "2024-08-23T19:34:36.484Z"
   },
   {
    "duration": 4,
    "start_time": "2024-08-23T19:36:52.178Z"
   },
   {
    "duration": 126,
    "start_time": "2024-08-23T19:36:52.764Z"
   },
   {
    "duration": 5,
    "start_time": "2024-08-23T19:38:25.641Z"
   },
   {
    "duration": 4,
    "start_time": "2024-08-23T19:40:01.377Z"
   },
   {
    "duration": 94,
    "start_time": "2024-08-23T19:40:02.301Z"
   },
   {
    "duration": 4,
    "start_time": "2024-08-23T19:40:23.497Z"
   },
   {
    "duration": 46,
    "start_time": "2024-08-23T19:40:23.852Z"
   },
   {
    "duration": 4,
    "start_time": "2024-08-23T19:40:42.574Z"
   },
   {
    "duration": 51,
    "start_time": "2024-08-23T19:40:42.943Z"
   },
   {
    "duration": 4,
    "start_time": "2024-08-23T19:48:42.614Z"
   },
   {
    "duration": 152,
    "start_time": "2024-08-23T19:48:43.241Z"
   },
   {
    "duration": 4,
    "start_time": "2024-08-23T19:49:18.673Z"
   },
   {
    "duration": 189,
    "start_time": "2024-08-23T19:49:19.205Z"
   },
   {
    "duration": 11,
    "start_time": "2024-08-23T19:51:31.094Z"
   },
   {
    "duration": 49,
    "start_time": "2024-08-23T19:51:31.648Z"
   },
   {
    "duration": 10,
    "start_time": "2024-08-23T19:51:43.164Z"
   },
   {
    "duration": 10,
    "start_time": "2024-08-23T19:51:49.006Z"
   },
   {
    "duration": 4,
    "start_time": "2024-08-23T19:57:03.597Z"
   },
   {
    "duration": 53,
    "start_time": "2024-08-23T19:57:04.239Z"
   },
   {
    "duration": 9,
    "start_time": "2024-08-23T19:57:12.905Z"
   },
   {
    "duration": 1737,
    "start_time": "2024-08-27T18:07:08.947Z"
   },
   {
    "duration": 617,
    "start_time": "2024-08-27T18:07:10.688Z"
   },
   {
    "duration": 13,
    "start_time": "2024-08-27T18:07:11.307Z"
   },
   {
    "duration": 39,
    "start_time": "2024-08-27T18:07:11.322Z"
   },
   {
    "duration": 17,
    "start_time": "2024-08-27T18:07:11.363Z"
   },
   {
    "duration": 41,
    "start_time": "2024-08-27T18:07:11.382Z"
   },
   {
    "duration": 239,
    "start_time": "2024-08-27T18:07:11.425Z"
   },
   {
    "duration": 950,
    "start_time": "2024-08-27T18:07:11.671Z"
   },
   {
    "duration": 76,
    "start_time": "2024-08-27T18:07:12.623Z"
   },
   {
    "duration": 319,
    "start_time": "2024-08-27T18:07:12.701Z"
   },
   {
    "duration": 267,
    "start_time": "2024-08-27T18:07:13.022Z"
   },
   {
    "duration": 10,
    "start_time": "2024-08-27T18:07:13.291Z"
   },
   {
    "duration": 38,
    "start_time": "2024-08-27T18:07:13.303Z"
   },
   {
    "duration": 13,
    "start_time": "2024-08-27T18:07:13.343Z"
   },
   {
    "duration": 34,
    "start_time": "2024-08-27T18:07:13.365Z"
   },
   {
    "duration": 291,
    "start_time": "2024-08-27T18:07:13.401Z"
   },
   {
    "duration": 907,
    "start_time": "2024-08-27T18:07:13.694Z"
   },
   {
    "duration": 849,
    "start_time": "2024-08-27T18:07:14.603Z"
   },
   {
    "duration": 74,
    "start_time": "2024-08-27T18:07:15.455Z"
   },
   {
    "duration": 360,
    "start_time": "2024-08-27T18:07:15.531Z"
   },
   {
    "duration": 254,
    "start_time": "2024-08-27T18:07:15.893Z"
   },
   {
    "duration": 9,
    "start_time": "2024-08-27T18:07:16.149Z"
   },
   {
    "duration": 57,
    "start_time": "2024-08-27T18:07:16.159Z"
   },
   {
    "duration": 10,
    "start_time": "2024-08-27T18:07:16.217Z"
   },
   {
    "duration": 29,
    "start_time": "2024-08-27T18:07:16.228Z"
   },
   {
    "duration": 192,
    "start_time": "2024-08-27T18:07:16.258Z"
   },
   {
    "duration": 935,
    "start_time": "2024-08-27T18:07:16.451Z"
   },
   {
    "duration": 1043,
    "start_time": "2024-08-27T18:07:17.389Z"
   },
   {
    "duration": 918,
    "start_time": "2024-08-27T18:07:18.434Z"
   },
   {
    "duration": 461,
    "start_time": "2024-08-27T18:07:19.354Z"
   },
   {
    "duration": 35,
    "start_time": "2024-08-27T18:07:19.817Z"
   },
   {
    "duration": 1156,
    "start_time": "2024-08-27T18:07:19.853Z"
   },
   {
    "duration": 14,
    "start_time": "2024-08-27T18:07:21.011Z"
   },
   {
    "duration": 7,
    "start_time": "2024-08-27T18:07:21.027Z"
   },
   {
    "duration": 143,
    "start_time": "2024-08-27T18:07:21.036Z"
   },
   {
    "duration": 89,
    "start_time": "2024-08-27T18:07:21.186Z"
   },
   {
    "duration": 123,
    "start_time": "2024-08-27T18:11:00.147Z"
   },
   {
    "duration": 19,
    "start_time": "2024-08-27T18:11:01.257Z"
   },
   {
    "duration": 137,
    "start_time": "2024-08-27T18:11:40.038Z"
   },
   {
    "duration": 92,
    "start_time": "2024-08-27T18:12:26.692Z"
   },
   {
    "duration": 15,
    "start_time": "2024-08-27T18:37:47.923Z"
   },
   {
    "duration": 11,
    "start_time": "2024-08-27T18:41:35.884Z"
   },
   {
    "duration": 11,
    "start_time": "2024-08-27T18:41:52.055Z"
   },
   {
    "duration": 3,
    "start_time": "2024-08-27T19:10:38.242Z"
   },
   {
    "duration": 3,
    "start_time": "2024-08-27T19:12:58.199Z"
   },
   {
    "duration": 65,
    "start_time": "2024-08-27T19:29:03.279Z"
   },
   {
    "duration": 123,
    "start_time": "2024-08-27T19:29:09.585Z"
   },
   {
    "duration": 4,
    "start_time": "2024-08-27T19:29:14.355Z"
   },
   {
    "duration": 9,
    "start_time": "2024-08-27T19:29:14.860Z"
   },
   {
    "duration": 5,
    "start_time": "2024-08-27T19:29:43.393Z"
   },
   {
    "duration": 1810,
    "start_time": "2024-08-28T07:27:32.240Z"
   },
   {
    "duration": 612,
    "start_time": "2024-08-28T07:27:34.053Z"
   },
   {
    "duration": 16,
    "start_time": "2024-08-28T07:27:34.667Z"
   },
   {
    "duration": 72,
    "start_time": "2024-08-28T07:27:34.685Z"
   },
   {
    "duration": 11,
    "start_time": "2024-08-28T07:27:34.758Z"
   },
   {
    "duration": 56,
    "start_time": "2024-08-28T07:27:34.770Z"
   },
   {
    "duration": 217,
    "start_time": "2024-08-28T07:27:34.828Z"
   },
   {
    "duration": 1043,
    "start_time": "2024-08-28T07:27:35.047Z"
   },
   {
    "duration": 81,
    "start_time": "2024-08-28T07:27:36.092Z"
   },
   {
    "duration": 321,
    "start_time": "2024-08-28T07:27:36.176Z"
   },
   {
    "duration": 287,
    "start_time": "2024-08-28T07:27:36.499Z"
   },
   {
    "duration": 10,
    "start_time": "2024-08-28T07:27:36.788Z"
   },
   {
    "duration": 55,
    "start_time": "2024-08-28T07:27:36.800Z"
   },
   {
    "duration": 11,
    "start_time": "2024-08-28T07:27:36.856Z"
   },
   {
    "duration": 30,
    "start_time": "2024-08-28T07:27:36.868Z"
   },
   {
    "duration": 210,
    "start_time": "2024-08-28T07:27:36.899Z"
   },
   {
    "duration": 1004,
    "start_time": "2024-08-28T07:27:37.111Z"
   },
   {
    "duration": 815,
    "start_time": "2024-08-28T07:27:38.117Z"
   },
   {
    "duration": 83,
    "start_time": "2024-08-28T07:27:38.934Z"
   },
   {
    "duration": 368,
    "start_time": "2024-08-28T07:27:39.020Z"
   },
   {
    "duration": 271,
    "start_time": "2024-08-28T07:27:39.390Z"
   },
   {
    "duration": 9,
    "start_time": "2024-08-28T07:27:39.663Z"
   },
   {
    "duration": 51,
    "start_time": "2024-08-28T07:27:39.674Z"
   },
   {
    "duration": 12,
    "start_time": "2024-08-28T07:27:39.727Z"
   },
   {
    "duration": 47,
    "start_time": "2024-08-28T07:27:39.745Z"
   },
   {
    "duration": 197,
    "start_time": "2024-08-28T07:27:39.794Z"
   },
   {
    "duration": 1084,
    "start_time": "2024-08-28T07:27:39.993Z"
   },
   {
    "duration": 989,
    "start_time": "2024-08-28T07:27:41.082Z"
   },
   {
    "duration": 937,
    "start_time": "2024-08-28T07:27:42.074Z"
   },
   {
    "duration": 394,
    "start_time": "2024-08-28T07:27:43.013Z"
   },
   {
    "duration": 55,
    "start_time": "2024-08-28T07:27:43.408Z"
   },
   {
    "duration": 1056,
    "start_time": "2024-08-28T07:27:43.465Z"
   },
   {
    "duration": 11,
    "start_time": "2024-08-28T07:27:44.523Z"
   },
   {
    "duration": 35,
    "start_time": "2024-08-28T07:27:44.536Z"
   },
   {
    "duration": 279,
    "start_time": "2024-08-28T07:27:44.572Z"
   },
   {
    "duration": 96,
    "start_time": "2024-08-28T07:27:44.853Z"
   },
   {
    "duration": 196,
    "start_time": "2024-08-28T07:27:44.953Z"
   },
   {
    "duration": 101,
    "start_time": "2024-08-28T07:27:45.152Z"
   },
   {
    "duration": 86,
    "start_time": "2024-08-28T07:27:45.255Z"
   },
   {
    "duration": 60,
    "start_time": "2024-08-28T07:27:45.343Z"
   },
   {
    "duration": 12,
    "start_time": "2024-08-28T07:33:45.055Z"
   },
   {
    "duration": 118,
    "start_time": "2024-08-28T07:40:50.956Z"
   },
   {
    "duration": 22,
    "start_time": "2024-08-28T07:41:48.411Z"
   },
   {
    "duration": 15,
    "start_time": "2024-08-28T07:47:07.998Z"
   },
   {
    "duration": 5,
    "start_time": "2024-08-28T08:04:57.852Z"
   },
   {
    "duration": 11,
    "start_time": "2024-08-28T08:05:29.737Z"
   },
   {
    "duration": 4,
    "start_time": "2024-08-28T08:08:43.285Z"
   },
   {
    "duration": 13,
    "start_time": "2024-08-28T08:08:58.107Z"
   },
   {
    "duration": 11,
    "start_time": "2024-08-28T08:09:31.867Z"
   },
   {
    "duration": 11,
    "start_time": "2024-08-28T08:09:59.445Z"
   },
   {
    "duration": 5,
    "start_time": "2024-08-28T09:08:59.644Z"
   },
   {
    "duration": 5,
    "start_time": "2024-08-28T09:21:50.955Z"
   },
   {
    "duration": 24,
    "start_time": "2024-08-28T09:23:28.232Z"
   },
   {
    "duration": 3,
    "start_time": "2024-08-28T09:23:47.713Z"
   },
   {
    "duration": 5,
    "start_time": "2024-08-28T09:23:51.993Z"
   },
   {
    "duration": 2108,
    "start_time": "2024-08-28T09:23:53.034Z"
   },
   {
    "duration": 5,
    "start_time": "2024-08-28T09:25:05.033Z"
   },
   {
    "duration": 2145,
    "start_time": "2024-08-28T09:25:06.083Z"
   },
   {
    "duration": 1658,
    "start_time": "2024-08-29T08:42:23.661Z"
   },
   {
    "duration": 600,
    "start_time": "2024-08-29T08:42:25.321Z"
   },
   {
    "duration": 15,
    "start_time": "2024-08-29T08:42:25.922Z"
   },
   {
    "duration": 84,
    "start_time": "2024-08-29T08:42:25.939Z"
   },
   {
    "duration": 31,
    "start_time": "2024-08-29T08:42:26.025Z"
   },
   {
    "duration": 42,
    "start_time": "2024-08-29T08:42:26.058Z"
   },
   {
    "duration": 189,
    "start_time": "2024-08-29T08:42:26.102Z"
   },
   {
    "duration": 996,
    "start_time": "2024-08-29T08:42:26.293Z"
   },
   {
    "duration": 76,
    "start_time": "2024-08-29T08:42:27.290Z"
   },
   {
    "duration": 316,
    "start_time": "2024-08-29T08:42:27.368Z"
   },
   {
    "duration": 284,
    "start_time": "2024-08-29T08:42:27.686Z"
   },
   {
    "duration": 9,
    "start_time": "2024-08-29T08:42:27.972Z"
   },
   {
    "duration": 38,
    "start_time": "2024-08-29T08:42:27.983Z"
   },
   {
    "duration": 10,
    "start_time": "2024-08-29T08:42:28.023Z"
   },
   {
    "duration": 44,
    "start_time": "2024-08-29T08:42:28.035Z"
   },
   {
    "duration": 292,
    "start_time": "2024-08-29T08:42:28.080Z"
   },
   {
    "duration": 933,
    "start_time": "2024-08-29T08:42:28.374Z"
   },
   {
    "duration": 969,
    "start_time": "2024-08-29T08:42:29.309Z"
   },
   {
    "duration": 64,
    "start_time": "2024-08-29T08:42:30.280Z"
   },
   {
    "duration": 336,
    "start_time": "2024-08-29T08:42:30.360Z"
   },
   {
    "duration": 260,
    "start_time": "2024-08-29T08:42:30.698Z"
   },
   {
    "duration": 10,
    "start_time": "2024-08-29T08:42:30.959Z"
   },
   {
    "duration": 38,
    "start_time": "2024-08-29T08:42:30.971Z"
   },
   {
    "duration": 9,
    "start_time": "2024-08-29T08:42:31.011Z"
   },
   {
    "duration": 56,
    "start_time": "2024-08-29T08:42:31.022Z"
   },
   {
    "duration": 198,
    "start_time": "2024-08-29T08:42:31.079Z"
   },
   {
    "duration": 992,
    "start_time": "2024-08-29T08:42:31.279Z"
   },
   {
    "duration": 1031,
    "start_time": "2024-08-29T08:42:32.275Z"
   },
   {
    "duration": 872,
    "start_time": "2024-08-29T08:42:33.308Z"
   },
   {
    "duration": 451,
    "start_time": "2024-08-29T08:42:34.182Z"
   },
   {
    "duration": 43,
    "start_time": "2024-08-29T08:42:34.635Z"
   },
   {
    "duration": 1075,
    "start_time": "2024-08-29T08:42:34.680Z"
   },
   {
    "duration": 9,
    "start_time": "2024-08-29T08:42:35.760Z"
   },
   {
    "duration": 13,
    "start_time": "2024-08-29T08:42:35.770Z"
   },
   {
    "duration": 87,
    "start_time": "2024-08-29T08:42:35.785Z"
   },
   {
    "duration": 288,
    "start_time": "2024-08-29T08:42:35.874Z"
   },
   {
    "duration": 206,
    "start_time": "2024-08-29T08:42:36.164Z"
   },
   {
    "duration": 94,
    "start_time": "2024-08-29T08:42:36.373Z"
   },
   {
    "duration": 18,
    "start_time": "2024-08-29T08:42:36.469Z"
   },
   {
    "duration": 8,
    "start_time": "2024-08-29T08:42:36.489Z"
   },
   {
    "duration": 11,
    "start_time": "2024-08-29T08:42:36.499Z"
   },
   {
    "duration": 9,
    "start_time": "2024-08-29T08:42:36.512Z"
   },
   {
    "duration": 23,
    "start_time": "2024-08-29T08:42:36.523Z"
   },
   {
    "duration": 14,
    "start_time": "2024-08-29T08:42:36.548Z"
   },
   {
    "duration": 49,
    "start_time": "2024-08-29T08:42:36.564Z"
   },
   {
    "duration": 7,
    "start_time": "2024-08-29T08:42:36.615Z"
   },
   {
    "duration": 2349,
    "start_time": "2024-08-29T08:42:36.624Z"
   },
   {
    "duration": 6,
    "start_time": "2024-08-29T09:02:14.600Z"
   },
   {
    "duration": 119,
    "start_time": "2024-08-29T09:02:15.652Z"
   },
   {
    "duration": 6,
    "start_time": "2024-08-29T09:02:37.270Z"
   },
   {
    "duration": 20,
    "start_time": "2024-08-29T09:02:38.598Z"
   },
   {
    "duration": 8,
    "start_time": "2024-08-29T09:20:08.813Z"
   },
   {
    "duration": 58388,
    "start_time": "2024-08-29T09:20:10.346Z"
   },
   {
    "duration": 11,
    "start_time": "2024-08-29T09:24:37.997Z"
   },
   {
    "duration": 6,
    "start_time": "2024-08-29T09:27:33.752Z"
   },
   {
    "duration": 1892,
    "start_time": "2024-08-29T09:27:34.769Z"
   },
   {
    "duration": 5,
    "start_time": "2024-08-29T09:30:59.079Z"
   },
   {
    "duration": 1918,
    "start_time": "2024-08-29T09:30:59.947Z"
   },
   {
    "duration": 9,
    "start_time": "2024-08-29T09:38:07.928Z"
   },
   {
    "duration": 1900,
    "start_time": "2024-08-29T09:38:09.170Z"
   },
   {
    "duration": 5,
    "start_time": "2024-08-29T09:39:02.584Z"
   },
   {
    "duration": 1890,
    "start_time": "2024-08-29T09:39:04.064Z"
   },
   {
    "duration": 5,
    "start_time": "2024-08-29T09:40:10.033Z"
   },
   {
    "duration": 1863,
    "start_time": "2024-08-29T09:40:10.465Z"
   },
   {
    "duration": 6,
    "start_time": "2024-08-29T09:40:17.707Z"
   },
   {
    "duration": 1880,
    "start_time": "2024-08-29T09:40:18.117Z"
   },
   {
    "duration": 5,
    "start_time": "2024-08-29T09:43:10.052Z"
   },
   {
    "duration": 1882,
    "start_time": "2024-08-29T09:43:10.573Z"
   },
   {
    "duration": 5,
    "start_time": "2024-08-29T09:43:20.225Z"
   },
   {
    "duration": 1856,
    "start_time": "2024-08-29T09:43:21.089Z"
   },
   {
    "duration": 5,
    "start_time": "2024-08-29T09:44:23.625Z"
   },
   {
    "duration": 1925,
    "start_time": "2024-08-29T09:44:24.397Z"
   },
   {
    "duration": 9,
    "start_time": "2024-08-29T09:55:18.645Z"
   },
   {
    "duration": 1789,
    "start_time": "2024-08-29T09:55:19.462Z"
   },
   {
    "duration": 5,
    "start_time": "2024-08-29T09:56:26.186Z"
   },
   {
    "duration": 1786,
    "start_time": "2024-08-29T09:56:26.634Z"
   },
   {
    "duration": 6,
    "start_time": "2024-08-29T09:56:53.538Z"
   },
   {
    "duration": 1804,
    "start_time": "2024-08-29T09:56:54.641Z"
   },
   {
    "duration": 90,
    "start_time": "2024-08-29T09:57:08.564Z"
   },
   {
    "duration": 5,
    "start_time": "2024-08-29T09:57:24.796Z"
   },
   {
    "duration": 1817,
    "start_time": "2024-08-29T09:57:25.219Z"
   },
   {
    "duration": 6,
    "start_time": "2024-08-29T10:02:08.972Z"
   },
   {
    "duration": 1819,
    "start_time": "2024-08-29T10:02:09.384Z"
   },
   {
    "duration": 77,
    "start_time": "2024-08-29T10:03:06.476Z"
   },
   {
    "duration": 6,
    "start_time": "2024-08-29T10:03:23.447Z"
   },
   {
    "duration": 22,
    "start_time": "2024-08-29T10:03:23.934Z"
   },
   {
    "duration": 5,
    "start_time": "2024-08-29T10:03:44.892Z"
   },
   {
    "duration": 1762,
    "start_time": "2024-08-29T10:03:45.330Z"
   },
   {
    "duration": 1794,
    "start_time": "2024-08-29T10:04:02.956Z"
   },
   {
    "duration": 1763,
    "start_time": "2024-08-29T10:04:25.523Z"
   },
   {
    "duration": 1554,
    "start_time": "2024-08-29T10:38:58.915Z"
   },
   {
    "duration": 195,
    "start_time": "2024-08-29T10:39:00.471Z"
   },
   {
    "duration": 14,
    "start_time": "2024-08-29T10:39:00.668Z"
   },
   {
    "duration": 42,
    "start_time": "2024-08-29T10:39:00.684Z"
   },
   {
    "duration": 39,
    "start_time": "2024-08-29T10:39:00.728Z"
   },
   {
    "duration": 47,
    "start_time": "2024-08-29T10:39:00.769Z"
   },
   {
    "duration": 218,
    "start_time": "2024-08-29T10:39:00.818Z"
   },
   {
    "duration": 944,
    "start_time": "2024-08-29T10:39:01.038Z"
   },
   {
    "duration": 93,
    "start_time": "2024-08-29T10:39:01.985Z"
   },
   {
    "duration": 406,
    "start_time": "2024-08-29T10:39:02.081Z"
   },
   {
    "duration": 184,
    "start_time": "2024-08-29T10:39:02.489Z"
   },
   {
    "duration": 9,
    "start_time": "2024-08-29T10:39:02.675Z"
   },
   {
    "duration": 47,
    "start_time": "2024-08-29T10:39:02.686Z"
   },
   {
    "duration": 10,
    "start_time": "2024-08-29T10:39:02.736Z"
   },
   {
    "duration": 134,
    "start_time": "2024-08-29T10:39:02.761Z"
   },
   {
    "duration": 191,
    "start_time": "2024-08-29T10:39:02.897Z"
   },
   {
    "duration": 920,
    "start_time": "2024-08-29T10:39:03.089Z"
   },
   {
    "duration": 925,
    "start_time": "2024-08-29T10:39:04.011Z"
   },
   {
    "duration": 66,
    "start_time": "2024-08-29T10:39:04.938Z"
   },
   {
    "duration": 319,
    "start_time": "2024-08-29T10:39:05.006Z"
   },
   {
    "duration": 164,
    "start_time": "2024-08-29T10:39:05.326Z"
   },
   {
    "duration": 9,
    "start_time": "2024-08-29T10:39:05.492Z"
   },
   {
    "duration": 38,
    "start_time": "2024-08-29T10:39:05.502Z"
   },
   {
    "duration": 12,
    "start_time": "2024-08-29T10:39:05.561Z"
   },
   {
    "duration": 43,
    "start_time": "2024-08-29T10:39:05.575Z"
   },
   {
    "duration": 201,
    "start_time": "2024-08-29T10:39:05.621Z"
   },
   {
    "duration": 1008,
    "start_time": "2024-08-29T10:39:05.824Z"
   },
   {
    "duration": 943,
    "start_time": "2024-08-29T10:39:06.834Z"
   },
   {
    "duration": 902,
    "start_time": "2024-08-29T10:39:07.779Z"
   },
   {
    "duration": 413,
    "start_time": "2024-08-29T10:39:08.683Z"
   },
   {
    "duration": 34,
    "start_time": "2024-08-29T10:39:09.098Z"
   },
   {
    "duration": 1140,
    "start_time": "2024-08-29T10:39:09.134Z"
   },
   {
    "duration": 10,
    "start_time": "2024-08-29T10:39:10.276Z"
   },
   {
    "duration": 15,
    "start_time": "2024-08-29T10:39:10.287Z"
   },
   {
    "duration": 157,
    "start_time": "2024-08-29T10:39:10.304Z"
   },
   {
    "duration": 201,
    "start_time": "2024-08-29T10:39:10.463Z"
   },
   {
    "duration": 198,
    "start_time": "2024-08-29T10:39:10.667Z"
   },
   {
    "duration": 100,
    "start_time": "2024-08-29T10:39:10.867Z"
   },
   {
    "duration": 3,
    "start_time": "2024-08-29T10:39:10.969Z"
   },
   {
    "duration": 9,
    "start_time": "2024-08-29T10:39:10.974Z"
   },
   {
    "duration": 13,
    "start_time": "2024-08-29T10:39:10.987Z"
   },
   {
    "duration": 8,
    "start_time": "2024-08-29T10:39:11.001Z"
   },
   {
    "duration": 11,
    "start_time": "2024-08-29T10:39:11.011Z"
   },
   {
    "duration": 38,
    "start_time": "2024-08-29T10:39:11.024Z"
   },
   {
    "duration": 10,
    "start_time": "2024-08-29T10:39:11.064Z"
   },
   {
    "duration": 6,
    "start_time": "2024-08-29T10:39:11.076Z"
   },
   {
    "duration": 1968,
    "start_time": "2024-08-29T10:39:11.083Z"
   },
   {
    "duration": 1923,
    "start_time": "2024-08-29T10:39:13.052Z"
   },
   {
    "duration": 1912,
    "start_time": "2024-08-29T10:39:14.976Z"
   },
   {
    "duration": 1449,
    "start_time": "2024-08-29T10:43:43.863Z"
   },
   {
    "duration": 199,
    "start_time": "2024-08-29T10:43:45.314Z"
   },
   {
    "duration": 14,
    "start_time": "2024-08-29T10:43:45.514Z"
   },
   {
    "duration": 68,
    "start_time": "2024-08-29T10:43:45.531Z"
   },
   {
    "duration": 11,
    "start_time": "2024-08-29T10:43:45.601Z"
   },
   {
    "duration": 50,
    "start_time": "2024-08-29T10:43:45.613Z"
   },
   {
    "duration": 204,
    "start_time": "2024-08-29T10:43:45.664Z"
   },
   {
    "duration": 928,
    "start_time": "2024-08-29T10:43:45.869Z"
   },
   {
    "duration": 79,
    "start_time": "2024-08-29T10:43:46.799Z"
   },
   {
    "duration": 328,
    "start_time": "2024-08-29T10:43:46.881Z"
   },
   {
    "duration": 189,
    "start_time": "2024-08-29T10:43:47.210Z"
   },
   {
    "duration": 9,
    "start_time": "2024-08-29T10:43:47.401Z"
   },
   {
    "duration": 55,
    "start_time": "2024-08-29T10:43:47.411Z"
   },
   {
    "duration": 9,
    "start_time": "2024-08-29T10:43:47.468Z"
   },
   {
    "duration": 43,
    "start_time": "2024-08-29T10:43:47.479Z"
   },
   {
    "duration": 279,
    "start_time": "2024-08-29T10:43:47.524Z"
   },
   {
    "duration": 877,
    "start_time": "2024-08-29T10:43:47.805Z"
   },
   {
    "duration": 830,
    "start_time": "2024-08-29T10:43:48.683Z"
   },
   {
    "duration": 74,
    "start_time": "2024-08-29T10:43:49.515Z"
   },
   {
    "duration": 348,
    "start_time": "2024-08-29T10:43:49.591Z"
   },
   {
    "duration": 188,
    "start_time": "2024-08-29T10:43:49.941Z"
   },
   {
    "duration": 10,
    "start_time": "2024-08-29T10:43:50.131Z"
   },
   {
    "duration": 84,
    "start_time": "2024-08-29T10:43:50.143Z"
   },
   {
    "duration": 11,
    "start_time": "2024-08-29T10:43:50.229Z"
   },
   {
    "duration": 55,
    "start_time": "2024-08-29T10:43:50.242Z"
   },
   {
    "duration": 214,
    "start_time": "2024-08-29T10:43:50.299Z"
   },
   {
    "duration": 934,
    "start_time": "2024-08-29T10:43:50.516Z"
   },
   {
    "duration": 1063,
    "start_time": "2024-08-29T10:43:51.454Z"
   },
   {
    "duration": 885,
    "start_time": "2024-08-29T10:43:52.518Z"
   },
   {
    "duration": 393,
    "start_time": "2024-08-29T10:43:53.405Z"
   },
   {
    "duration": 36,
    "start_time": "2024-08-29T10:43:53.800Z"
   },
   {
    "duration": 1164,
    "start_time": "2024-08-29T10:43:53.838Z"
   },
   {
    "duration": 6,
    "start_time": "2024-08-29T10:43:55.005Z"
   },
   {
    "duration": 156,
    "start_time": "2024-08-29T10:43:55.013Z"
   },
   {
    "duration": 294,
    "start_time": "2024-08-29T10:43:55.171Z"
   },
   {
    "duration": 200,
    "start_time": "2024-08-29T10:43:55.467Z"
   },
   {
    "duration": 4,
    "start_time": "2024-08-29T10:43:55.669Z"
   },
   {
    "duration": 11,
    "start_time": "2024-08-29T10:43:55.675Z"
   },
   {
    "duration": 9,
    "start_time": "2024-08-29T10:43:55.688Z"
   },
   {
    "duration": 61,
    "start_time": "2024-08-29T10:43:55.699Z"
   },
   {
    "duration": 10,
    "start_time": "2024-08-29T10:43:55.762Z"
   },
   {
    "duration": 15,
    "start_time": "2024-08-29T10:43:55.773Z"
   },
   {
    "duration": 10,
    "start_time": "2024-08-29T10:43:55.790Z"
   },
   {
    "duration": 6,
    "start_time": "2024-08-29T10:43:55.802Z"
   },
   {
    "duration": 1947,
    "start_time": "2024-08-29T10:43:55.810Z"
   },
   {
    "duration": 1931,
    "start_time": "2024-08-29T10:43:57.761Z"
   },
   {
    "duration": 2002,
    "start_time": "2024-08-29T10:43:59.694Z"
   },
   {
    "duration": 1765,
    "start_time": "2024-08-30T13:07:46.857Z"
   },
   {
    "duration": 598,
    "start_time": "2024-08-30T13:07:48.625Z"
   },
   {
    "duration": 12,
    "start_time": "2024-08-30T13:07:49.225Z"
   },
   {
    "duration": 44,
    "start_time": "2024-08-30T13:07:49.239Z"
   },
   {
    "duration": 13,
    "start_time": "2024-08-30T13:07:49.284Z"
   },
   {
    "duration": 31,
    "start_time": "2024-08-30T13:07:49.299Z"
   },
   {
    "duration": 209,
    "start_time": "2024-08-30T13:07:49.332Z"
   },
   {
    "duration": 1062,
    "start_time": "2024-08-30T13:07:49.542Z"
   },
   {
    "duration": 94,
    "start_time": "2024-08-30T13:07:50.606Z"
   },
   {
    "duration": 389,
    "start_time": "2024-08-30T13:07:50.703Z"
   },
   {
    "duration": 276,
    "start_time": "2024-08-30T13:07:51.094Z"
   },
   {
    "duration": 12,
    "start_time": "2024-08-30T13:07:51.372Z"
   },
   {
    "duration": 34,
    "start_time": "2024-08-30T13:07:51.388Z"
   },
   {
    "duration": 11,
    "start_time": "2024-08-30T13:07:51.424Z"
   },
   {
    "duration": 51,
    "start_time": "2024-08-30T13:07:51.436Z"
   },
   {
    "duration": 287,
    "start_time": "2024-08-30T13:07:51.489Z"
   },
   {
    "duration": 950,
    "start_time": "2024-08-30T13:07:51.790Z"
   },
   {
    "duration": 784,
    "start_time": "2024-08-30T13:07:52.742Z"
   },
   {
    "duration": 75,
    "start_time": "2024-08-30T13:07:53.528Z"
   },
   {
    "duration": 353,
    "start_time": "2024-08-30T13:07:53.604Z"
   },
   {
    "duration": 281,
    "start_time": "2024-08-30T13:07:53.959Z"
   },
   {
    "duration": 9,
    "start_time": "2024-08-30T13:07:54.242Z"
   },
   {
    "duration": 63,
    "start_time": "2024-08-30T13:07:54.253Z"
   },
   {
    "duration": 17,
    "start_time": "2024-08-30T13:07:54.318Z"
   },
   {
    "duration": 81,
    "start_time": "2024-08-30T13:07:54.336Z"
   },
   {
    "duration": 214,
    "start_time": "2024-08-30T13:07:54.419Z"
   },
   {
    "duration": 904,
    "start_time": "2024-08-30T13:07:54.635Z"
   },
   {
    "duration": 1018,
    "start_time": "2024-08-30T13:07:55.543Z"
   },
   {
    "duration": 917,
    "start_time": "2024-08-30T13:07:56.563Z"
   },
   {
    "duration": 427,
    "start_time": "2024-08-30T13:07:57.482Z"
   },
   {
    "duration": 33,
    "start_time": "2024-08-30T13:07:57.910Z"
   },
   {
    "duration": 1118,
    "start_time": "2024-08-30T13:07:57.945Z"
   },
   {
    "duration": 10,
    "start_time": "2024-08-30T13:07:59.072Z"
   },
   {
    "duration": 111,
    "start_time": "2024-08-30T13:07:59.083Z"
   },
   {
    "duration": 201,
    "start_time": "2024-08-30T13:07:59.264Z"
   },
   {
    "duration": 203,
    "start_time": "2024-08-30T13:07:59.467Z"
   },
   {
    "duration": 5,
    "start_time": "2024-08-30T13:07:59.676Z"
   },
   {
    "duration": 13,
    "start_time": "2024-08-30T13:07:59.683Z"
   },
   {
    "duration": 10,
    "start_time": "2024-08-30T13:07:59.763Z"
   },
   {
    "duration": 24,
    "start_time": "2024-08-30T13:07:59.775Z"
   },
   {
    "duration": 20,
    "start_time": "2024-08-30T13:07:59.801Z"
   },
   {
    "duration": 14,
    "start_time": "2024-08-30T13:07:59.823Z"
   },
   {
    "duration": 36,
    "start_time": "2024-08-30T13:07:59.838Z"
   },
   {
    "duration": 11,
    "start_time": "2024-08-30T13:07:59.875Z"
   },
   {
    "duration": 1930,
    "start_time": "2024-08-30T13:07:59.888Z"
   },
   {
    "duration": 1977,
    "start_time": "2024-08-30T13:08:01.819Z"
   },
   {
    "duration": 2035,
    "start_time": "2024-08-30T13:08:03.798Z"
   }
  ],
  "kernelspec": {
   "display_name": "Python 3 (ipykernel)",
   "language": "python",
   "name": "python3"
  },
  "language_info": {
   "codemirror_mode": {
    "name": "ipython",
    "version": 3
   },
   "file_extension": ".py",
   "mimetype": "text/x-python",
   "name": "python",
   "nbconvert_exporter": "python",
   "pygments_lexer": "ipython3",
   "version": "3.12.4"
  },
  "toc": {
   "base_numbering": 1,
   "nav_menu": {},
   "number_sections": true,
   "sideBar": true,
   "skip_h1_title": true,
   "title_cell": "Table of Contents",
   "title_sidebar": "Contents",
   "toc_cell": false,
   "toc_position": {},
   "toc_section_display": true,
   "toc_window_display": false
  }
 },
 "nbformat": 4,
 "nbformat_minor": 4
}
